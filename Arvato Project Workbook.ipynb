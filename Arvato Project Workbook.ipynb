{
 "cells": [
  {
   "cell_type": "markdown",
   "metadata": {},
   "source": [
    "# Capstone Project: Create a Customer Segmentation Report for Arvato Financial Services\n",
    "\n",
    "In this project, you will analyze demographics data for customers of a mail-order sales company in Germany, comparing it against demographics information for the general population. You'll use unsupervised learning techniques to perform customer segmentation, identifying the parts of the population that best describe the core customer base of the company. Then, you'll apply what you've learned on a third dataset with demographics information for targets of a marketing campaign for the company, and use a model to predict which individuals are most likely to convert into becoming customers for the company. The data that you will use has been provided by our partners at Bertelsmann Arvato Analytics, and represents a real-life data science task.\n",
    "\n",
    "If you completed the first term of this program, you will be familiar with the first part of this project, from the unsupervised learning project. The versions of those two datasets used in this project will include many more features and has not been pre-cleaned. You are also free to choose whatever approach you'd like to analyzing the data rather than follow pre-determined steps. In your work on this project, make sure that you carefully document your steps and decisions, since your main deliverable for this project will be a blog post reporting your findings."
   ]
  },
  {
   "cell_type": "code",
   "execution_count": 1,
   "metadata": {},
   "outputs": [],
   "source": [
    "# import libraries here; add more as necessary\n",
    "import numpy as np\n",
    "import pandas as pd\n",
    "import pickle\n",
    "import matplotlib.pyplot as plt\n",
    "import seaborn as sns\n",
    "from scipy.stats import skew\n",
    "from scipy import stats\n",
    "\n",
    "from sklearn.pipeline import Pipeline\n",
    "from sklearn.impute import SimpleImputer\n",
    "from sklearn.preprocessing import StandardScaler, FunctionTransformer, OneHotEncoder\n",
    "from sklearn.compose import ColumnTransformer\n",
    "from sklearn.decomposition import PCA\n",
    "from sklearn.cluster import KMeans\n",
    "\n",
    "from sklearn.ensemble import RandomForestClassifier, AdaBoostClassifier, GradientBoostingClassifier\n",
    "import xgboost as xgb\n",
    "from sklearn.model_selection import learning_curve\n",
    "from sklearn.model_selection import GridSearchCV\n",
    "from sklearn.metrics import roc_auc_score\n",
    "\n",
    "# magic word for producing visualizations in notebook\n",
    "%matplotlib inline"
   ]
  },
  {
   "cell_type": "code",
   "execution_count": 2,
   "metadata": {},
   "outputs": [],
   "source": [
    "def map_component_to_features(pca, component, column_names):\n",
    "    \"\"\"\n",
    "    Returns weights of features for a selected component.\n",
    "    \n",
    "    Input:\n",
    "    pca - fitted PCA object\n",
    "    component - PCA component of interest\n",
    "    column_names - list of original feature names\n",
    "    \n",
    "    Output:\n",
    "    df_features - sorted DataFrame with feature weigths\n",
    "    \"\"\"\n",
    "    \n",
    "    weights_array = pca.components_[component]\n",
    "    df_features = pd.DataFrame(weights_array, index = column_names, columns=['weight'])\n",
    "    return df_features.sort_values(by='weight', ascending=False).round(2)"
   ]
  },
  {
   "cell_type": "code",
   "execution_count": 3,
   "metadata": {},
   "outputs": [],
   "source": [
    "def draw_learning_curves(X, y, estimator, num_trainings):\n",
    "    \"\"\"\n",
    "    Draw learning curve that shows the validation and training auc_score of an estimator \n",
    "    for varying numbers of training samples.\n",
    "    \n",
    "    Input:\n",
    "        X: array like sample\n",
    "        y: array like target relative to X2 sample\n",
    "        estimator: object type that implements the “fit” and “predict” methods\n",
    "        num_trainings (int): number of training samples to plot\n",
    "        \n",
    "    Output:\n",
    "        None\n",
    "    \"\"\"\n",
    "    \n",
    "    train_sizes, train_scores, test_scores = learning_curve(\n",
    "        estimator, X, y, scoring = 'roc_auc', train_sizes=np.linspace(.1, 1.0, num_trainings))\n",
    "\n",
    "    train_scores_mean = np.mean(train_scores, axis=1)\n",
    "    test_scores_mean = np.mean(test_scores, axis=1)\n",
    "    print(\"AUC train score = {}\".format(train_scores_mean[-1].round(2)))\n",
    "    print(\"AUC validation score = {}\".format(test_scores_mean[-1].round(2)))\n",
    "    plt.grid()\n",
    "\n",
    "    plt.title(\"Learning Curves\")\n",
    "    plt.xlabel(\"% of training set\")\n",
    "    plt.ylabel(\"Score\")\n",
    "\n",
    "    plt.plot(np.linspace(.1, 1.0, num_trainings)*100, train_scores_mean, 'o-', color=\"g\",\n",
    "             label=\"Training score\")\n",
    "    plt.plot(np.linspace(.1, 1.0, num_trainings)*100, test_scores_mean, 'o-', color=\"y\",\n",
    "             label=\"Cross-validation score\")\n",
    "\n",
    "    plt.yticks(np.arange(0.45, 1.02, 0.05))\n",
    "    plt.xticks(np.arange(0., 100.05, 10))\n",
    "    plt.legend(loc=\"best\")\n",
    "    print(\"\")\n",
    "    plt.show()"
   ]
  },
  {
   "cell_type": "code",
   "execution_count": 4,
   "metadata": {},
   "outputs": [],
   "source": [
    "def randomize(df):\n",
    "    \"\"\"\n",
    "    Returns randomized dataframes/series X and y.\n",
    "    \n",
    "    Input: df DataFrame\n",
    "    Output: randomized dataframes/series X and y\n",
    "    \"\"\"\n",
    "    \n",
    "    df_randomized = df.sample(frac=1)\n",
    "    y_rand = df_randomized['RESPONSE']\n",
    "    X_rand = df_randomized.drop(['RESPONSE'],axis=1)\n",
    "    return X_rand, y_rand"
   ]
  },
  {
   "cell_type": "code",
   "execution_count": 5,
   "metadata": {},
   "outputs": [],
   "source": [
    "def convert_keys_to_nan(df, keys_dict):\n",
    "    \"\"\"\n",
    "    Replaces given keys from keys_dict to np.nan in df inplace\n",
    "    \n",
    "    Input:\n",
    "        df (DataFrame): Dataset for which keys to np.nan need to be converted\n",
    "        keys_dict: dictionary of attributes with keys that needs to be converted to np.nan\n",
    "        \n",
    "    Output:\n",
    "        None\n",
    "    \"\"\"\n",
    "    for attribute in keys_dict:\n",
    "        \n",
    "        # Check if attribute is in dataframe\n",
    "        if attribute in df.columns:       \n",
    "            keys_array = keys_dict[attribute]\n",
    "            for key in keys_array:\n",
    "                if key == 'X' or key == 'XX':\n",
    "                    key = str(key)\n",
    "                else:\n",
    "                    key = int(key)\n",
    "                \n",
    "                df[attribute].replace(key, np.NaN, inplace=True)"
   ]
  },
  {
   "cell_type": "code",
   "execution_count": 6,
   "metadata": {},
   "outputs": [],
   "source": [
    "def clean_dataframe(df, drop_cols, test_df=False):\n",
    "    \"\"\"\n",
    "    Returns cleaned dataframe.\n",
    "    \n",
    "    Input: \n",
    "    df - Dataframe to be cleaned\n",
    "    drop_cols - Columns of df to be dropped\n",
    "    test_df - True if dataframe is mailout_test dataframe\n",
    "    \n",
    "    Output:\n",
    "    df_clean - cleaned dataframe\n",
    "    \"\"\"\n",
    "    \n",
    "    # drop columns\n",
    "    df_clean = df.drop(drop_cols, axis=1)\n",
    "    \n",
    "    # Convert columns 'EINGEFUEGT_AM' and 'OST_WEST_KZ'\n",
    "    #df_clean = pd.concat([df_clean.drop(['CAMEO_DEU_2015'], axis=1), pd.get_dummies(df_clean['CAMEO_DEU_2015'], prefix='CAMEO_DEU_2015', drop_first=True, dummy_na=True)], axis=1)\n",
    "    df_clean['EINGEFUEGT_AM'] = pd.to_datetime(df_clean['EINGEFUEGT_AM'], format='%Y-%m-%d ').dt.year\n",
    "    df_clean['OST_WEST_KZ'].replace('O', 0, inplace=True)\n",
    "    df_clean['OST_WEST_KZ'].replace('W', 1, inplace=True)\n",
    "    df_clean['OST_WEST_KZ'] = pd.to_numeric(df_clean['OST_WEST_KZ'], errors = 'coerce')\n",
    "    \n",
    "    # Drop rows with more than 16 missing values if not mailout_test dataframe\n",
    "    if test_df==False:\n",
    "        rows_dropped = sum(df_clean.isnull().sum(axis=1) > 16)\n",
    "        df_clean = df_clean[df_clean.isnull().sum(axis=1) <= 16]\n",
    "    else:\n",
    "        rows_dropped = 0\n",
    "    \n",
    "    # Print new shape and datatypes\n",
    "    print(\"Old shape: {}\".format(df.shape))\n",
    "    print(\"{} rows and {} columns dropped.\".format(rows_dropped, len(drop_cols)))\n",
    "    print(\"New shape: {} \\n\".format(df_clean.shape))\n",
    "    print(\"Datatypes:\")\n",
    "    print(df_clean.get_dtype_counts())\n",
    "    \n",
    "    return df_clean    "
   ]
  },
  {
   "cell_type": "code",
   "execution_count": 7,
   "metadata": {},
   "outputs": [],
   "source": [
    "def pca_scree_plot(pca):\n",
    "    \"\"\"\n",
    "    Plots PCA scree plot.\n",
    "    \n",
    "    Input: pca - fitted PCA object\n",
    "    Output: scree plot\n",
    "    \"\"\"\n",
    "    \n",
    "    num_components = len(pca.explained_variance_ratio_)\n",
    "    ind = np.arange(num_components)\n",
    "    vals = pca.explained_variance_ratio_\n",
    "    cumvals = np.cumsum(vals)\n",
    "\n",
    "    fig = plt.figure(figsize=(16,6))\n",
    "    ax = plt.subplot()\n",
    "    ax.bar(ind, vals)\n",
    "    ax.plot(ind, cumvals)\n",
    "\n",
    "    plt.xlabel('Number of components')\n",
    "    plt.ylabel('Cumulative explained variance')\n",
    "    plt.title('Cumulative explained variance ratio plot')\n",
    "    \n",
    "    return fig"
   ]
  },
  {
   "cell_type": "code",
   "execution_count": 8,
   "metadata": {},
   "outputs": [],
   "source": [
    "def get_clusters_attributes(cluster_pipeline, numerical_cols, skewed_cols, column_names):\n",
    "    \"\"\"\n",
    "    Function transforms clusters centers, by performin pca inverse transform,\n",
    "    reverse scale for numerical(num_attributes) and atrributes with logarithmic transformation (log_attributes),\n",
    "    and exponential transformation for log_attributes\n",
    "    \n",
    "    Input:\n",
    "        cluster_pipeline: object of cluster_pipeline\n",
    "        num_attributes: list of numerical attributes which were rescaled\n",
    "        log_attributes: list of attributes wich had logarithmic transformation and also were rescaled\n",
    "        column_names: names of all columns after Column Transformer operation\n",
    "        \n",
    "        \n",
    "    Output:\n",
    "        cluster_centers_df (DataFrame): DataFrame of cluster_centers with their attributes values\n",
    "        \n",
    "    \"\"\"\n",
    "\n",
    "    pca_components = cluster_pipeline.named_steps['reduce']\n",
    "    kmeans = cluster_pipeline.named_steps['cluster']\n",
    "    transformer =  cluster_pipeline.named_steps['transform']\n",
    "\n",
    "    cluster_centers = pca_components.inverse_transform(kmeans.cluster_centers_)\n",
    "    cluster_centers_df = pd.DataFrame(cluster_centers, columns=column_names)\n",
    "\n",
    "    num_scale = transformer.named_transformers_['numerical'].named_steps['num_scale']\n",
    "    log_scale = transformer.named_transformers_['skewed'].named_steps['log_scale']\n",
    "    log_transform = transformer.named_transformers_['skewed'].named_steps['log_transform']\n",
    "\n",
    "    cluster_centers_df[numerical_cols] = num_scale.inverse_transform(cluster_centers_df[numerical_cols])\n",
    "    cluster_centers_df[skewed_cols] = log_scale.inverse_transform(cluster_centers_df[skewed_cols])\n",
    "    cluster_centers_df[skewed_cols] = log_transform.inverse_transform(cluster_centers_df[skewed_cols])\n",
    "\n",
    "    return cluster_centers_df  "
   ]
  },
  {
   "cell_type": "markdown",
   "metadata": {},
   "source": [
    "## Part 0: Get to Know the Data\n",
    "\n",
    "There are four data files associated with this project:\n",
    "\n",
    "- `Udacity_AZDIAS_052018.csv`: Demographics data for the general population of Germany; 891 211 persons (rows) x 366 features (columns).\n",
    "- `Udacity_CUSTOMERS_052018.csv`: Demographics data for customers of a mail-order company; 191 652 persons (rows) x 369 features (columns).\n",
    "- `Udacity_MAILOUT_052018_TRAIN.csv`: Demographics data for individuals who were targets of a marketing campaign; 42 982 persons (rows) x 367 (columns).\n",
    "- `Udacity_MAILOUT_052018_TEST.csv`: Demographics data for individuals who were targets of a marketing campaign; 42 833 persons (rows) x 366 (columns).\n",
    "\n",
    "Each row of the demographics files represents a single person, but also includes information outside of individuals, including information about their household, building, and neighborhood. Use the information from the first two files to figure out how customers (\"CUSTOMERS\") are similar to or differ from the general population at large (\"AZDIAS\"), then use your analysis to make predictions on the other two files (\"MAILOUT\"), predicting which recipients are most likely to become a customer for the mail-order company.\n",
    "\n",
    "The \"CUSTOMERS\" file contains three extra columns ('CUSTOMER_GROUP', 'ONLINE_PURCHASE', and 'PRODUCT_GROUP'), which provide broad information about the customers depicted in the file. The original \"MAILOUT\" file included one additional column, \"RESPONSE\", which indicated whether or not each recipient became a customer of the company. For the \"TRAIN\" subset, this column has been retained, but in the \"TEST\" subset it has been removed; it is against that withheld column that your final predictions will be assessed in the Kaggle competition.\n",
    "\n",
    "Otherwise, all of the remaining columns are the same between the three data files. For more information about the columns depicted in the files, you can refer to two Excel spreadsheets provided in the workspace. [One of them](./DIAS Information Levels - Attributes 2017.xlsx) is a top-level list of attributes and descriptions, organized by informational category. [The other](./DIAS Attributes - Values 2017.xlsx) is a detailed mapping of data values for each feature in alphabetical order.\n",
    "\n",
    "In the below cell, we've provided some initial code to load in the first two datasets. Note for all of the `.csv` data files in this project that they're semicolon (`;`) delimited, so an additional argument in the [`read_csv()`](https://pandas.pydata.org/pandas-docs/stable/generated/pandas.read_csv.html) call has been included to read in the data properly. Also, considering the size of the datasets, it may take some time for them to load completely.\n",
    "\n",
    "You'll notice when the data is loaded in that a warning message will immediately pop up. Before you really start digging into the modeling and analysis, you're going to need to perform some cleaning. Take some time to browse the structure of the data and look over the informational spreadsheets to understand the data values. Make some decisions on which features to keep, which features to drop, and if any revisions need to be made on data formats. It'll be a good idea to create a function with pre-processing steps, since you'll need to clean all of the datasets before you work with them."
   ]
  },
  {
   "cell_type": "markdown",
   "metadata": {},
   "source": [
    "#### Load data"
   ]
  },
  {
   "cell_type": "code",
   "execution_count": 9,
   "metadata": {},
   "outputs": [],
   "source": [
    "# Load data\n",
    "#azdias = pd.read_csv('Udacity_AZDIAS_052018.csv', sep=';', low_memory=False)\n",
    "#customers = pd.read_csv('Udacity_CUSTOMERS_052018.csv', sep=';', low_memory=False)"
   ]
  },
  {
   "cell_type": "code",
   "execution_count": 10,
   "metadata": {},
   "outputs": [],
   "source": [
    "# pickle dataframes to speed-up data loading next time\n",
    "#azdias.to_pickle('azdias.pickle')\n",
    "#customers.to_pickle('customers.pickle')"
   ]
  },
  {
   "cell_type": "code",
   "execution_count": 11,
   "metadata": {},
   "outputs": [],
   "source": [
    "# load pickled data\n",
    "azdias = pd.read_pickle('azdias.pickle')\n",
    "customers = pd.read_pickle('customers.pickle')"
   ]
  },
  {
   "cell_type": "markdown",
   "metadata": {},
   "source": [
    "### Data Exploration & Visualization"
   ]
  },
  {
   "cell_type": "markdown",
   "metadata": {},
   "source": [
    "There are four data files associated with this project:\n",
    "\n",
    "- `Udacity_AZDIAS_052018.csv`: Demographics data for the general population of Germany; 891 211 persons (rows) x 366 features (columns).\n",
    "- `Udacity_CUSTOMERS_052018.csv`: Demographics data for customers of a mail-order company; 191 652 persons (rows) x 369 features (columns).\n",
    "- `Udacity_MAILOUT_052018_TRAIN.csv`: Demographics data for individuals who were targets of a marketing campaign; 42 982 persons (rows) x 367 (columns).\n",
    "- `Udacity_MAILOUT_052018_TEST.csv`: Demographics data for individuals who were targets of a marketing campaign; 42 833 persons (rows) x 366 (columns).\n",
    "\n",
    "Each row of the demographics files represents a single person, but also includes information outside of individuals, including information about their household, building, and neighborhood."
   ]
  },
  {
   "cell_type": "markdown",
   "metadata": {},
   "source": [
    "#### Shape of datasets"
   ]
  },
  {
   "cell_type": "code",
   "execution_count": 12,
   "metadata": {},
   "outputs": [
    {
     "name": "stdout",
     "output_type": "stream",
     "text": [
      "Shape of general population dataset: 891221 rows, 366 columns\n"
     ]
    },
    {
     "data": {
      "text/html": [
       "<div>\n",
       "<style scoped>\n",
       "    .dataframe tbody tr th:only-of-type {\n",
       "        vertical-align: middle;\n",
       "    }\n",
       "\n",
       "    .dataframe tbody tr th {\n",
       "        vertical-align: top;\n",
       "    }\n",
       "\n",
       "    .dataframe thead th {\n",
       "        text-align: right;\n",
       "    }\n",
       "</style>\n",
       "<table border=\"1\" class=\"dataframe\">\n",
       "  <thead>\n",
       "    <tr style=\"text-align: right;\">\n",
       "      <th></th>\n",
       "      <th>LNR</th>\n",
       "      <th>AGER_TYP</th>\n",
       "      <th>AKT_DAT_KL</th>\n",
       "      <th>ALTER_HH</th>\n",
       "      <th>ALTER_KIND1</th>\n",
       "      <th>ALTER_KIND2</th>\n",
       "      <th>ALTER_KIND3</th>\n",
       "      <th>ALTER_KIND4</th>\n",
       "      <th>ALTERSKATEGORIE_FEIN</th>\n",
       "      <th>ANZ_HAUSHALTE_AKTIV</th>\n",
       "      <th>...</th>\n",
       "      <th>VHN</th>\n",
       "      <th>VK_DHT4A</th>\n",
       "      <th>VK_DISTANZ</th>\n",
       "      <th>VK_ZG11</th>\n",
       "      <th>W_KEIT_KIND_HH</th>\n",
       "      <th>WOHNDAUER_2008</th>\n",
       "      <th>WOHNLAGE</th>\n",
       "      <th>ZABEOTYP</th>\n",
       "      <th>ANREDE_KZ</th>\n",
       "      <th>ALTERSKATEGORIE_GROB</th>\n",
       "    </tr>\n",
       "  </thead>\n",
       "  <tbody>\n",
       "    <tr>\n",
       "      <th>0</th>\n",
       "      <td>910215</td>\n",
       "      <td>-1</td>\n",
       "      <td>NaN</td>\n",
       "      <td>NaN</td>\n",
       "      <td>NaN</td>\n",
       "      <td>NaN</td>\n",
       "      <td>NaN</td>\n",
       "      <td>NaN</td>\n",
       "      <td>NaN</td>\n",
       "      <td>NaN</td>\n",
       "      <td>...</td>\n",
       "      <td>NaN</td>\n",
       "      <td>NaN</td>\n",
       "      <td>NaN</td>\n",
       "      <td>NaN</td>\n",
       "      <td>NaN</td>\n",
       "      <td>NaN</td>\n",
       "      <td>NaN</td>\n",
       "      <td>3</td>\n",
       "      <td>1</td>\n",
       "      <td>2</td>\n",
       "    </tr>\n",
       "    <tr>\n",
       "      <th>1</th>\n",
       "      <td>910220</td>\n",
       "      <td>-1</td>\n",
       "      <td>9.0</td>\n",
       "      <td>0.0</td>\n",
       "      <td>NaN</td>\n",
       "      <td>NaN</td>\n",
       "      <td>NaN</td>\n",
       "      <td>NaN</td>\n",
       "      <td>21.0</td>\n",
       "      <td>11.0</td>\n",
       "      <td>...</td>\n",
       "      <td>4.0</td>\n",
       "      <td>8.0</td>\n",
       "      <td>11.0</td>\n",
       "      <td>10.0</td>\n",
       "      <td>3.0</td>\n",
       "      <td>9.0</td>\n",
       "      <td>4.0</td>\n",
       "      <td>5</td>\n",
       "      <td>2</td>\n",
       "      <td>1</td>\n",
       "    </tr>\n",
       "    <tr>\n",
       "      <th>2</th>\n",
       "      <td>910225</td>\n",
       "      <td>-1</td>\n",
       "      <td>9.0</td>\n",
       "      <td>17.0</td>\n",
       "      <td>NaN</td>\n",
       "      <td>NaN</td>\n",
       "      <td>NaN</td>\n",
       "      <td>NaN</td>\n",
       "      <td>17.0</td>\n",
       "      <td>10.0</td>\n",
       "      <td>...</td>\n",
       "      <td>2.0</td>\n",
       "      <td>9.0</td>\n",
       "      <td>9.0</td>\n",
       "      <td>6.0</td>\n",
       "      <td>3.0</td>\n",
       "      <td>9.0</td>\n",
       "      <td>2.0</td>\n",
       "      <td>5</td>\n",
       "      <td>2</td>\n",
       "      <td>3</td>\n",
       "    </tr>\n",
       "    <tr>\n",
       "      <th>3</th>\n",
       "      <td>910226</td>\n",
       "      <td>2</td>\n",
       "      <td>1.0</td>\n",
       "      <td>13.0</td>\n",
       "      <td>NaN</td>\n",
       "      <td>NaN</td>\n",
       "      <td>NaN</td>\n",
       "      <td>NaN</td>\n",
       "      <td>13.0</td>\n",
       "      <td>1.0</td>\n",
       "      <td>...</td>\n",
       "      <td>0.0</td>\n",
       "      <td>7.0</td>\n",
       "      <td>10.0</td>\n",
       "      <td>11.0</td>\n",
       "      <td>NaN</td>\n",
       "      <td>9.0</td>\n",
       "      <td>7.0</td>\n",
       "      <td>3</td>\n",
       "      <td>2</td>\n",
       "      <td>4</td>\n",
       "    </tr>\n",
       "    <tr>\n",
       "      <th>4</th>\n",
       "      <td>910241</td>\n",
       "      <td>-1</td>\n",
       "      <td>1.0</td>\n",
       "      <td>20.0</td>\n",
       "      <td>NaN</td>\n",
       "      <td>NaN</td>\n",
       "      <td>NaN</td>\n",
       "      <td>NaN</td>\n",
       "      <td>14.0</td>\n",
       "      <td>3.0</td>\n",
       "      <td>...</td>\n",
       "      <td>2.0</td>\n",
       "      <td>3.0</td>\n",
       "      <td>5.0</td>\n",
       "      <td>4.0</td>\n",
       "      <td>2.0</td>\n",
       "      <td>9.0</td>\n",
       "      <td>3.0</td>\n",
       "      <td>4</td>\n",
       "      <td>1</td>\n",
       "      <td>3</td>\n",
       "    </tr>\n",
       "  </tbody>\n",
       "</table>\n",
       "<p>5 rows × 366 columns</p>\n",
       "</div>"
      ],
      "text/plain": [
       "      LNR  AGER_TYP  AKT_DAT_KL  ALTER_HH  ALTER_KIND1  ALTER_KIND2  \\\n",
       "0  910215        -1         NaN       NaN          NaN          NaN   \n",
       "1  910220        -1         9.0       0.0          NaN          NaN   \n",
       "2  910225        -1         9.0      17.0          NaN          NaN   \n",
       "3  910226         2         1.0      13.0          NaN          NaN   \n",
       "4  910241        -1         1.0      20.0          NaN          NaN   \n",
       "\n",
       "   ALTER_KIND3  ALTER_KIND4  ALTERSKATEGORIE_FEIN  ANZ_HAUSHALTE_AKTIV  \\\n",
       "0          NaN          NaN                   NaN                  NaN   \n",
       "1          NaN          NaN                  21.0                 11.0   \n",
       "2          NaN          NaN                  17.0                 10.0   \n",
       "3          NaN          NaN                  13.0                  1.0   \n",
       "4          NaN          NaN                  14.0                  3.0   \n",
       "\n",
       "          ...           VHN  VK_DHT4A  VK_DISTANZ  VK_ZG11  W_KEIT_KIND_HH  \\\n",
       "0         ...           NaN       NaN         NaN      NaN             NaN   \n",
       "1         ...           4.0       8.0        11.0     10.0             3.0   \n",
       "2         ...           2.0       9.0         9.0      6.0             3.0   \n",
       "3         ...           0.0       7.0        10.0     11.0             NaN   \n",
       "4         ...           2.0       3.0         5.0      4.0             2.0   \n",
       "\n",
       "   WOHNDAUER_2008  WOHNLAGE ZABEOTYP ANREDE_KZ ALTERSKATEGORIE_GROB  \n",
       "0             NaN       NaN        3         1                    2  \n",
       "1             9.0       4.0        5         2                    1  \n",
       "2             9.0       2.0        5         2                    3  \n",
       "3             9.0       7.0        3         2                    4  \n",
       "4             9.0       3.0        4         1                    3  \n",
       "\n",
       "[5 rows x 366 columns]"
      ]
     },
     "execution_count": 12,
     "metadata": {},
     "output_type": "execute_result"
    }
   ],
   "source": [
    "# Shape of general population dataset\n",
    "print(\"Shape of general population dataset: {} rows, {} columns\".format(azdias.shape[0], azdias.shape[1]))\n",
    "azdias.head()"
   ]
  },
  {
   "cell_type": "code",
   "execution_count": 13,
   "metadata": {},
   "outputs": [
    {
     "name": "stdout",
     "output_type": "stream",
     "text": [
      "Shape of customers dataset: 191652 rows, 369 columns\n"
     ]
    },
    {
     "data": {
      "text/html": [
       "<div>\n",
       "<style scoped>\n",
       "    .dataframe tbody tr th:only-of-type {\n",
       "        vertical-align: middle;\n",
       "    }\n",
       "\n",
       "    .dataframe tbody tr th {\n",
       "        vertical-align: top;\n",
       "    }\n",
       "\n",
       "    .dataframe thead th {\n",
       "        text-align: right;\n",
       "    }\n",
       "</style>\n",
       "<table border=\"1\" class=\"dataframe\">\n",
       "  <thead>\n",
       "    <tr style=\"text-align: right;\">\n",
       "      <th></th>\n",
       "      <th>LNR</th>\n",
       "      <th>AGER_TYP</th>\n",
       "      <th>AKT_DAT_KL</th>\n",
       "      <th>ALTER_HH</th>\n",
       "      <th>ALTER_KIND1</th>\n",
       "      <th>ALTER_KIND2</th>\n",
       "      <th>ALTER_KIND3</th>\n",
       "      <th>ALTER_KIND4</th>\n",
       "      <th>ALTERSKATEGORIE_FEIN</th>\n",
       "      <th>ANZ_HAUSHALTE_AKTIV</th>\n",
       "      <th>...</th>\n",
       "      <th>VK_ZG11</th>\n",
       "      <th>W_KEIT_KIND_HH</th>\n",
       "      <th>WOHNDAUER_2008</th>\n",
       "      <th>WOHNLAGE</th>\n",
       "      <th>ZABEOTYP</th>\n",
       "      <th>PRODUCT_GROUP</th>\n",
       "      <th>CUSTOMER_GROUP</th>\n",
       "      <th>ONLINE_PURCHASE</th>\n",
       "      <th>ANREDE_KZ</th>\n",
       "      <th>ALTERSKATEGORIE_GROB</th>\n",
       "    </tr>\n",
       "  </thead>\n",
       "  <tbody>\n",
       "    <tr>\n",
       "      <th>0</th>\n",
       "      <td>9626</td>\n",
       "      <td>2</td>\n",
       "      <td>1.0</td>\n",
       "      <td>10.0</td>\n",
       "      <td>NaN</td>\n",
       "      <td>NaN</td>\n",
       "      <td>NaN</td>\n",
       "      <td>NaN</td>\n",
       "      <td>10.0</td>\n",
       "      <td>1.0</td>\n",
       "      <td>...</td>\n",
       "      <td>2.0</td>\n",
       "      <td>6.0</td>\n",
       "      <td>9.0</td>\n",
       "      <td>7.0</td>\n",
       "      <td>3</td>\n",
       "      <td>COSMETIC_AND_FOOD</td>\n",
       "      <td>MULTI_BUYER</td>\n",
       "      <td>0</td>\n",
       "      <td>1</td>\n",
       "      <td>4</td>\n",
       "    </tr>\n",
       "    <tr>\n",
       "      <th>1</th>\n",
       "      <td>9628</td>\n",
       "      <td>-1</td>\n",
       "      <td>9.0</td>\n",
       "      <td>11.0</td>\n",
       "      <td>NaN</td>\n",
       "      <td>NaN</td>\n",
       "      <td>NaN</td>\n",
       "      <td>NaN</td>\n",
       "      <td>NaN</td>\n",
       "      <td>NaN</td>\n",
       "      <td>...</td>\n",
       "      <td>3.0</td>\n",
       "      <td>0.0</td>\n",
       "      <td>9.0</td>\n",
       "      <td>NaN</td>\n",
       "      <td>3</td>\n",
       "      <td>FOOD</td>\n",
       "      <td>SINGLE_BUYER</td>\n",
       "      <td>0</td>\n",
       "      <td>1</td>\n",
       "      <td>4</td>\n",
       "    </tr>\n",
       "    <tr>\n",
       "      <th>2</th>\n",
       "      <td>143872</td>\n",
       "      <td>-1</td>\n",
       "      <td>1.0</td>\n",
       "      <td>6.0</td>\n",
       "      <td>NaN</td>\n",
       "      <td>NaN</td>\n",
       "      <td>NaN</td>\n",
       "      <td>NaN</td>\n",
       "      <td>0.0</td>\n",
       "      <td>1.0</td>\n",
       "      <td>...</td>\n",
       "      <td>11.0</td>\n",
       "      <td>6.0</td>\n",
       "      <td>9.0</td>\n",
       "      <td>2.0</td>\n",
       "      <td>3</td>\n",
       "      <td>COSMETIC_AND_FOOD</td>\n",
       "      <td>MULTI_BUYER</td>\n",
       "      <td>0</td>\n",
       "      <td>2</td>\n",
       "      <td>4</td>\n",
       "    </tr>\n",
       "    <tr>\n",
       "      <th>3</th>\n",
       "      <td>143873</td>\n",
       "      <td>1</td>\n",
       "      <td>1.0</td>\n",
       "      <td>8.0</td>\n",
       "      <td>NaN</td>\n",
       "      <td>NaN</td>\n",
       "      <td>NaN</td>\n",
       "      <td>NaN</td>\n",
       "      <td>8.0</td>\n",
       "      <td>0.0</td>\n",
       "      <td>...</td>\n",
       "      <td>2.0</td>\n",
       "      <td>NaN</td>\n",
       "      <td>9.0</td>\n",
       "      <td>7.0</td>\n",
       "      <td>1</td>\n",
       "      <td>COSMETIC</td>\n",
       "      <td>MULTI_BUYER</td>\n",
       "      <td>0</td>\n",
       "      <td>1</td>\n",
       "      <td>4</td>\n",
       "    </tr>\n",
       "    <tr>\n",
       "      <th>4</th>\n",
       "      <td>143874</td>\n",
       "      <td>-1</td>\n",
       "      <td>1.0</td>\n",
       "      <td>20.0</td>\n",
       "      <td>NaN</td>\n",
       "      <td>NaN</td>\n",
       "      <td>NaN</td>\n",
       "      <td>NaN</td>\n",
       "      <td>14.0</td>\n",
       "      <td>7.0</td>\n",
       "      <td>...</td>\n",
       "      <td>4.0</td>\n",
       "      <td>2.0</td>\n",
       "      <td>9.0</td>\n",
       "      <td>3.0</td>\n",
       "      <td>1</td>\n",
       "      <td>FOOD</td>\n",
       "      <td>MULTI_BUYER</td>\n",
       "      <td>0</td>\n",
       "      <td>1</td>\n",
       "      <td>3</td>\n",
       "    </tr>\n",
       "  </tbody>\n",
       "</table>\n",
       "<p>5 rows × 369 columns</p>\n",
       "</div>"
      ],
      "text/plain": [
       "      LNR  AGER_TYP  AKT_DAT_KL  ALTER_HH  ALTER_KIND1  ALTER_KIND2  \\\n",
       "0    9626         2         1.0      10.0          NaN          NaN   \n",
       "1    9628        -1         9.0      11.0          NaN          NaN   \n",
       "2  143872        -1         1.0       6.0          NaN          NaN   \n",
       "3  143873         1         1.0       8.0          NaN          NaN   \n",
       "4  143874        -1         1.0      20.0          NaN          NaN   \n",
       "\n",
       "   ALTER_KIND3  ALTER_KIND4  ALTERSKATEGORIE_FEIN  ANZ_HAUSHALTE_AKTIV  \\\n",
       "0          NaN          NaN                  10.0                  1.0   \n",
       "1          NaN          NaN                   NaN                  NaN   \n",
       "2          NaN          NaN                   0.0                  1.0   \n",
       "3          NaN          NaN                   8.0                  0.0   \n",
       "4          NaN          NaN                  14.0                  7.0   \n",
       "\n",
       "          ...           VK_ZG11  W_KEIT_KIND_HH  WOHNDAUER_2008  WOHNLAGE  \\\n",
       "0         ...               2.0             6.0             9.0       7.0   \n",
       "1         ...               3.0             0.0             9.0       NaN   \n",
       "2         ...              11.0             6.0             9.0       2.0   \n",
       "3         ...               2.0             NaN             9.0       7.0   \n",
       "4         ...               4.0             2.0             9.0       3.0   \n",
       "\n",
       "   ZABEOTYP      PRODUCT_GROUP  CUSTOMER_GROUP ONLINE_PURCHASE ANREDE_KZ  \\\n",
       "0         3  COSMETIC_AND_FOOD     MULTI_BUYER               0         1   \n",
       "1         3               FOOD    SINGLE_BUYER               0         1   \n",
       "2         3  COSMETIC_AND_FOOD     MULTI_BUYER               0         2   \n",
       "3         1           COSMETIC     MULTI_BUYER               0         1   \n",
       "4         1               FOOD     MULTI_BUYER               0         1   \n",
       "\n",
       "  ALTERSKATEGORIE_GROB  \n",
       "0                    4  \n",
       "1                    4  \n",
       "2                    4  \n",
       "3                    4  \n",
       "4                    3  \n",
       "\n",
       "[5 rows x 369 columns]"
      ]
     },
     "execution_count": 13,
     "metadata": {},
     "output_type": "execute_result"
    }
   ],
   "source": [
    "# Shape of customers dataset\n",
    "print(\"Shape of customers dataset: {} rows, {} columns\".format(customers.shape[0], customers.shape[1]))\n",
    "customers.head()"
   ]
  },
  {
   "cell_type": "code",
   "execution_count": 14,
   "metadata": {},
   "outputs": [
    {
     "data": {
      "text/plain": [
       "{'CUSTOMER_GROUP', 'ONLINE_PURCHASE', 'PRODUCT_GROUP'}"
      ]
     },
     "execution_count": 14,
     "metadata": {},
     "output_type": "execute_result"
    }
   ],
   "source": [
    "# Differences in columns\n",
    "azdias_columns = set(azdias.columns)\n",
    "customers_columns = set(customers.columns)\n",
    "customers_columns - azdias_columns"
   ]
  },
  {
   "cell_type": "markdown",
   "metadata": {},
   "source": [
    "The customers dataset has three columns more: 'CUSTOMER_GROUP', 'ONLINE_PURCHASE', 'PRODUCT_GROUP'."
   ]
  },
  {
   "cell_type": "markdown",
   "metadata": {},
   "source": [
    "#### Data types"
   ]
  },
  {
   "cell_type": "code",
   "execution_count": 15,
   "metadata": {},
   "outputs": [
    {
     "data": {
      "text/plain": [
       "float64    267\n",
       "int64       93\n",
       "object       6\n",
       "dtype: int64"
      ]
     },
     "execution_count": 15,
     "metadata": {},
     "output_type": "execute_result"
    }
   ],
   "source": [
    "# Show dtypes and corrsp. number of columns\n",
    "azdias.get_dtype_counts()"
   ]
  },
  {
   "cell_type": "code",
   "execution_count": 16,
   "metadata": {},
   "outputs": [
    {
     "data": {
      "text/html": [
       "<div>\n",
       "<style scoped>\n",
       "    .dataframe tbody tr th:only-of-type {\n",
       "        vertical-align: middle;\n",
       "    }\n",
       "\n",
       "    .dataframe tbody tr th {\n",
       "        vertical-align: top;\n",
       "    }\n",
       "\n",
       "    .dataframe thead th {\n",
       "        text-align: right;\n",
       "    }\n",
       "</style>\n",
       "<table border=\"1\" class=\"dataframe\">\n",
       "  <thead>\n",
       "    <tr style=\"text-align: right;\">\n",
       "      <th></th>\n",
       "      <th>CAMEO_DEU_2015</th>\n",
       "      <th>CAMEO_DEUG_2015</th>\n",
       "      <th>CAMEO_INTL_2015</th>\n",
       "      <th>D19_LETZTER_KAUF_BRANCHE</th>\n",
       "      <th>EINGEFUEGT_AM</th>\n",
       "      <th>OST_WEST_KZ</th>\n",
       "    </tr>\n",
       "  </thead>\n",
       "  <tbody>\n",
       "    <tr>\n",
       "      <th>0</th>\n",
       "      <td>NaN</td>\n",
       "      <td>NaN</td>\n",
       "      <td>NaN</td>\n",
       "      <td>NaN</td>\n",
       "      <td>NaN</td>\n",
       "      <td>NaN</td>\n",
       "    </tr>\n",
       "    <tr>\n",
       "      <th>1</th>\n",
       "      <td>8A</td>\n",
       "      <td>8</td>\n",
       "      <td>51</td>\n",
       "      <td>NaN</td>\n",
       "      <td>1992-02-10 00:00:00</td>\n",
       "      <td>W</td>\n",
       "    </tr>\n",
       "    <tr>\n",
       "      <th>2</th>\n",
       "      <td>4C</td>\n",
       "      <td>4</td>\n",
       "      <td>24</td>\n",
       "      <td>D19_UNBEKANNT</td>\n",
       "      <td>1992-02-12 00:00:00</td>\n",
       "      <td>W</td>\n",
       "    </tr>\n",
       "    <tr>\n",
       "      <th>3</th>\n",
       "      <td>2A</td>\n",
       "      <td>2</td>\n",
       "      <td>12</td>\n",
       "      <td>D19_UNBEKANNT</td>\n",
       "      <td>1997-04-21 00:00:00</td>\n",
       "      <td>W</td>\n",
       "    </tr>\n",
       "    <tr>\n",
       "      <th>4</th>\n",
       "      <td>6B</td>\n",
       "      <td>6</td>\n",
       "      <td>43</td>\n",
       "      <td>D19_SCHUHE</td>\n",
       "      <td>1992-02-12 00:00:00</td>\n",
       "      <td>W</td>\n",
       "    </tr>\n",
       "  </tbody>\n",
       "</table>\n",
       "</div>"
      ],
      "text/plain": [
       "  CAMEO_DEU_2015 CAMEO_DEUG_2015 CAMEO_INTL_2015 D19_LETZTER_KAUF_BRANCHE  \\\n",
       "0            NaN             NaN             NaN                      NaN   \n",
       "1             8A               8              51                      NaN   \n",
       "2             4C               4              24            D19_UNBEKANNT   \n",
       "3             2A               2              12            D19_UNBEKANNT   \n",
       "4             6B               6              43               D19_SCHUHE   \n",
       "\n",
       "         EINGEFUEGT_AM OST_WEST_KZ  \n",
       "0                  NaN         NaN  \n",
       "1  1992-02-10 00:00:00           W  \n",
       "2  1992-02-12 00:00:00           W  \n",
       "3  1997-04-21 00:00:00           W  \n",
       "4  1992-02-12 00:00:00           W  "
      ]
     },
     "execution_count": 16,
     "metadata": {},
     "output_type": "execute_result"
    }
   ],
   "source": [
    "# Print categorical columns\n",
    "azdias.select_dtypes(['object']).head(5)"
   ]
  },
  {
   "cell_type": "code",
   "execution_count": 17,
   "metadata": {
    "scrolled": true
   },
   "outputs": [
    {
     "data": {
      "text/plain": [
       "float64    267\n",
       "int64       94\n",
       "object       8\n",
       "dtype: int64"
      ]
     },
     "execution_count": 17,
     "metadata": {},
     "output_type": "execute_result"
    }
   ],
   "source": [
    "customers.get_dtype_counts()"
   ]
  },
  {
   "cell_type": "code",
   "execution_count": 18,
   "metadata": {},
   "outputs": [
    {
     "data": {
      "text/html": [
       "<div>\n",
       "<style scoped>\n",
       "    .dataframe tbody tr th:only-of-type {\n",
       "        vertical-align: middle;\n",
       "    }\n",
       "\n",
       "    .dataframe tbody tr th {\n",
       "        vertical-align: top;\n",
       "    }\n",
       "\n",
       "    .dataframe thead th {\n",
       "        text-align: right;\n",
       "    }\n",
       "</style>\n",
       "<table border=\"1\" class=\"dataframe\">\n",
       "  <thead>\n",
       "    <tr style=\"text-align: right;\">\n",
       "      <th></th>\n",
       "      <th>CAMEO_DEU_2015</th>\n",
       "      <th>CAMEO_DEUG_2015</th>\n",
       "      <th>CAMEO_INTL_2015</th>\n",
       "      <th>D19_LETZTER_KAUF_BRANCHE</th>\n",
       "      <th>EINGEFUEGT_AM</th>\n",
       "      <th>OST_WEST_KZ</th>\n",
       "      <th>PRODUCT_GROUP</th>\n",
       "      <th>CUSTOMER_GROUP</th>\n",
       "    </tr>\n",
       "  </thead>\n",
       "  <tbody>\n",
       "    <tr>\n",
       "      <th>0</th>\n",
       "      <td>1A</td>\n",
       "      <td>1</td>\n",
       "      <td>13</td>\n",
       "      <td>D19_UNBEKANNT</td>\n",
       "      <td>1992-02-12 00:00:00</td>\n",
       "      <td>W</td>\n",
       "      <td>COSMETIC_AND_FOOD</td>\n",
       "      <td>MULTI_BUYER</td>\n",
       "    </tr>\n",
       "    <tr>\n",
       "      <th>1</th>\n",
       "      <td>NaN</td>\n",
       "      <td>NaN</td>\n",
       "      <td>NaN</td>\n",
       "      <td>D19_BANKEN_GROSS</td>\n",
       "      <td>NaN</td>\n",
       "      <td>NaN</td>\n",
       "      <td>FOOD</td>\n",
       "      <td>SINGLE_BUYER</td>\n",
       "    </tr>\n",
       "    <tr>\n",
       "      <th>2</th>\n",
       "      <td>5D</td>\n",
       "      <td>5</td>\n",
       "      <td>34</td>\n",
       "      <td>D19_UNBEKANNT</td>\n",
       "      <td>1992-02-10 00:00:00</td>\n",
       "      <td>W</td>\n",
       "      <td>COSMETIC_AND_FOOD</td>\n",
       "      <td>MULTI_BUYER</td>\n",
       "    </tr>\n",
       "    <tr>\n",
       "      <th>3</th>\n",
       "      <td>4C</td>\n",
       "      <td>4</td>\n",
       "      <td>24</td>\n",
       "      <td>D19_NAHRUNGSERGAENZUNG</td>\n",
       "      <td>1992-02-10 00:00:00</td>\n",
       "      <td>W</td>\n",
       "      <td>COSMETIC</td>\n",
       "      <td>MULTI_BUYER</td>\n",
       "    </tr>\n",
       "    <tr>\n",
       "      <th>4</th>\n",
       "      <td>7B</td>\n",
       "      <td>7</td>\n",
       "      <td>41</td>\n",
       "      <td>D19_SCHUHE</td>\n",
       "      <td>1992-02-12 00:00:00</td>\n",
       "      <td>W</td>\n",
       "      <td>FOOD</td>\n",
       "      <td>MULTI_BUYER</td>\n",
       "    </tr>\n",
       "  </tbody>\n",
       "</table>\n",
       "</div>"
      ],
      "text/plain": [
       "  CAMEO_DEU_2015 CAMEO_DEUG_2015 CAMEO_INTL_2015 D19_LETZTER_KAUF_BRANCHE  \\\n",
       "0             1A               1              13            D19_UNBEKANNT   \n",
       "1            NaN             NaN             NaN         D19_BANKEN_GROSS   \n",
       "2             5D               5              34            D19_UNBEKANNT   \n",
       "3             4C               4              24   D19_NAHRUNGSERGAENZUNG   \n",
       "4             7B               7              41               D19_SCHUHE   \n",
       "\n",
       "         EINGEFUEGT_AM OST_WEST_KZ      PRODUCT_GROUP CUSTOMER_GROUP  \n",
       "0  1992-02-12 00:00:00           W  COSMETIC_AND_FOOD    MULTI_BUYER  \n",
       "1                  NaN         NaN               FOOD   SINGLE_BUYER  \n",
       "2  1992-02-10 00:00:00           W  COSMETIC_AND_FOOD    MULTI_BUYER  \n",
       "3  1992-02-10 00:00:00           W           COSMETIC    MULTI_BUYER  \n",
       "4  1992-02-12 00:00:00           W               FOOD    MULTI_BUYER  "
      ]
     },
     "execution_count": 18,
     "metadata": {},
     "output_type": "execute_result"
    }
   ],
   "source": [
    "customers.select_dtypes(['object']).head(5)"
   ]
  },
  {
   "cell_type": "markdown",
   "metadata": {},
   "source": [
    "Azdias dataset has 6 categorical columns of which one is a date column. Customers has two more columns which are not in the Azdias dataset.\n",
    "\n",
    "The common categorical columns are:\n",
    "* CAMEO_DEU_2015, CAMEO_DEUG_2015, CAMEO_INTL_2015: These describe the sociodemographic background of a household (cluster) based on the CAMEO classification system.\n",
    "* D19_LETZTER_KAUF_BRANCHE: No description is provided for this column. However, based on the column name it could be referred to the industry of the latest purchase of the household (shoes, food, etc)\n",
    "* EINGEFUEGT_AM: Again, no description provided but seems like the date when the household entry was added to the database.\n",
    "* OST_WEST_KZ: Indicates if the building is located (was constructed?) in the former GDR/East Germany (O) or FDR/West Germany (W)."
   ]
  },
  {
   "cell_type": "markdown",
   "metadata": {},
   "source": [
    "#### Descriptive statistics"
   ]
  },
  {
   "cell_type": "code",
   "execution_count": 19,
   "metadata": {},
   "outputs": [
    {
     "data": {
      "text/html": [
       "<div>\n",
       "<style scoped>\n",
       "    .dataframe tbody tr th:only-of-type {\n",
       "        vertical-align: middle;\n",
       "    }\n",
       "\n",
       "    .dataframe tbody tr th {\n",
       "        vertical-align: top;\n",
       "    }\n",
       "\n",
       "    .dataframe thead th {\n",
       "        text-align: right;\n",
       "    }\n",
       "</style>\n",
       "<table border=\"1\" class=\"dataframe\">\n",
       "  <thead>\n",
       "    <tr style=\"text-align: right;\">\n",
       "      <th></th>\n",
       "      <th>LNR</th>\n",
       "      <th>AGER_TYP</th>\n",
       "      <th>AKT_DAT_KL</th>\n",
       "      <th>ALTER_HH</th>\n",
       "      <th>ALTER_KIND1</th>\n",
       "      <th>ALTER_KIND2</th>\n",
       "      <th>ALTER_KIND3</th>\n",
       "      <th>ALTER_KIND4</th>\n",
       "      <th>ALTERSKATEGORIE_FEIN</th>\n",
       "      <th>ANZ_HAUSHALTE_AKTIV</th>\n",
       "      <th>...</th>\n",
       "      <th>VHN</th>\n",
       "      <th>VK_DHT4A</th>\n",
       "      <th>VK_DISTANZ</th>\n",
       "      <th>VK_ZG11</th>\n",
       "      <th>W_KEIT_KIND_HH</th>\n",
       "      <th>WOHNDAUER_2008</th>\n",
       "      <th>WOHNLAGE</th>\n",
       "      <th>ZABEOTYP</th>\n",
       "      <th>ANREDE_KZ</th>\n",
       "      <th>ALTERSKATEGORIE_GROB</th>\n",
       "    </tr>\n",
       "  </thead>\n",
       "  <tbody>\n",
       "    <tr>\n",
       "      <th>count</th>\n",
       "      <td>8.912210e+05</td>\n",
       "      <td>891221.000000</td>\n",
       "      <td>817722.000000</td>\n",
       "      <td>817722.000000</td>\n",
       "      <td>81058.000000</td>\n",
       "      <td>29499.000000</td>\n",
       "      <td>6170.000000</td>\n",
       "      <td>1205.000000</td>\n",
       "      <td>628274.000000</td>\n",
       "      <td>798073.000000</td>\n",
       "      <td>...</td>\n",
       "      <td>770025.000000</td>\n",
       "      <td>815304.000000</td>\n",
       "      <td>815304.000000</td>\n",
       "      <td>815304.000000</td>\n",
       "      <td>783619.000000</td>\n",
       "      <td>817722.000000</td>\n",
       "      <td>798073.000000</td>\n",
       "      <td>891221.000000</td>\n",
       "      <td>891221.000000</td>\n",
       "      <td>891221.000000</td>\n",
       "    </tr>\n",
       "    <tr>\n",
       "      <th>mean</th>\n",
       "      <td>6.372630e+05</td>\n",
       "      <td>-0.358435</td>\n",
       "      <td>4.421928</td>\n",
       "      <td>10.864126</td>\n",
       "      <td>11.745392</td>\n",
       "      <td>13.402658</td>\n",
       "      <td>14.476013</td>\n",
       "      <td>15.089627</td>\n",
       "      <td>13.700717</td>\n",
       "      <td>8.287263</td>\n",
       "      <td>...</td>\n",
       "      <td>2.417322</td>\n",
       "      <td>6.001214</td>\n",
       "      <td>7.532130</td>\n",
       "      <td>5.945972</td>\n",
       "      <td>3.933406</td>\n",
       "      <td>7.908791</td>\n",
       "      <td>4.052836</td>\n",
       "      <td>3.362438</td>\n",
       "      <td>1.522098</td>\n",
       "      <td>2.777398</td>\n",
       "    </tr>\n",
       "    <tr>\n",
       "      <th>std</th>\n",
       "      <td>2.572735e+05</td>\n",
       "      <td>1.198724</td>\n",
       "      <td>3.638805</td>\n",
       "      <td>7.639683</td>\n",
       "      <td>4.097660</td>\n",
       "      <td>3.243300</td>\n",
       "      <td>2.712427</td>\n",
       "      <td>2.452932</td>\n",
       "      <td>5.079849</td>\n",
       "      <td>15.628087</td>\n",
       "      <td>...</td>\n",
       "      <td>1.166572</td>\n",
       "      <td>2.856091</td>\n",
       "      <td>3.247789</td>\n",
       "      <td>2.771464</td>\n",
       "      <td>1.964701</td>\n",
       "      <td>1.923137</td>\n",
       "      <td>1.949539</td>\n",
       "      <td>1.352704</td>\n",
       "      <td>0.499512</td>\n",
       "      <td>1.068775</td>\n",
       "    </tr>\n",
       "    <tr>\n",
       "      <th>min</th>\n",
       "      <td>1.916530e+05</td>\n",
       "      <td>-1.000000</td>\n",
       "      <td>1.000000</td>\n",
       "      <td>0.000000</td>\n",
       "      <td>2.000000</td>\n",
       "      <td>2.000000</td>\n",
       "      <td>4.000000</td>\n",
       "      <td>7.000000</td>\n",
       "      <td>0.000000</td>\n",
       "      <td>0.000000</td>\n",
       "      <td>...</td>\n",
       "      <td>0.000000</td>\n",
       "      <td>1.000000</td>\n",
       "      <td>1.000000</td>\n",
       "      <td>1.000000</td>\n",
       "      <td>0.000000</td>\n",
       "      <td>1.000000</td>\n",
       "      <td>0.000000</td>\n",
       "      <td>1.000000</td>\n",
       "      <td>1.000000</td>\n",
       "      <td>1.000000</td>\n",
       "    </tr>\n",
       "    <tr>\n",
       "      <th>25%</th>\n",
       "      <td>4.144580e+05</td>\n",
       "      <td>-1.000000</td>\n",
       "      <td>1.000000</td>\n",
       "      <td>0.000000</td>\n",
       "      <td>8.000000</td>\n",
       "      <td>11.000000</td>\n",
       "      <td>13.000000</td>\n",
       "      <td>14.000000</td>\n",
       "      <td>11.000000</td>\n",
       "      <td>1.000000</td>\n",
       "      <td>...</td>\n",
       "      <td>2.000000</td>\n",
       "      <td>3.000000</td>\n",
       "      <td>5.000000</td>\n",
       "      <td>4.000000</td>\n",
       "      <td>2.000000</td>\n",
       "      <td>8.000000</td>\n",
       "      <td>3.000000</td>\n",
       "      <td>3.000000</td>\n",
       "      <td>1.000000</td>\n",
       "      <td>2.000000</td>\n",
       "    </tr>\n",
       "    <tr>\n",
       "      <th>50%</th>\n",
       "      <td>6.372630e+05</td>\n",
       "      <td>-1.000000</td>\n",
       "      <td>3.000000</td>\n",
       "      <td>13.000000</td>\n",
       "      <td>12.000000</td>\n",
       "      <td>14.000000</td>\n",
       "      <td>15.000000</td>\n",
       "      <td>15.000000</td>\n",
       "      <td>14.000000</td>\n",
       "      <td>4.000000</td>\n",
       "      <td>...</td>\n",
       "      <td>2.000000</td>\n",
       "      <td>6.000000</td>\n",
       "      <td>8.000000</td>\n",
       "      <td>6.000000</td>\n",
       "      <td>4.000000</td>\n",
       "      <td>9.000000</td>\n",
       "      <td>3.000000</td>\n",
       "      <td>3.000000</td>\n",
       "      <td>2.000000</td>\n",
       "      <td>3.000000</td>\n",
       "    </tr>\n",
       "    <tr>\n",
       "      <th>75%</th>\n",
       "      <td>8.600680e+05</td>\n",
       "      <td>-1.000000</td>\n",
       "      <td>9.000000</td>\n",
       "      <td>17.000000</td>\n",
       "      <td>15.000000</td>\n",
       "      <td>16.000000</td>\n",
       "      <td>17.000000</td>\n",
       "      <td>17.000000</td>\n",
       "      <td>17.000000</td>\n",
       "      <td>9.000000</td>\n",
       "      <td>...</td>\n",
       "      <td>3.000000</td>\n",
       "      <td>9.000000</td>\n",
       "      <td>10.000000</td>\n",
       "      <td>8.000000</td>\n",
       "      <td>6.000000</td>\n",
       "      <td>9.000000</td>\n",
       "      <td>5.000000</td>\n",
       "      <td>4.000000</td>\n",
       "      <td>2.000000</td>\n",
       "      <td>4.000000</td>\n",
       "    </tr>\n",
       "    <tr>\n",
       "      <th>max</th>\n",
       "      <td>1.082873e+06</td>\n",
       "      <td>3.000000</td>\n",
       "      <td>9.000000</td>\n",
       "      <td>21.000000</td>\n",
       "      <td>18.000000</td>\n",
       "      <td>18.000000</td>\n",
       "      <td>18.000000</td>\n",
       "      <td>18.000000</td>\n",
       "      <td>25.000000</td>\n",
       "      <td>595.000000</td>\n",
       "      <td>...</td>\n",
       "      <td>4.000000</td>\n",
       "      <td>11.000000</td>\n",
       "      <td>13.000000</td>\n",
       "      <td>11.000000</td>\n",
       "      <td>6.000000</td>\n",
       "      <td>9.000000</td>\n",
       "      <td>8.000000</td>\n",
       "      <td>6.000000</td>\n",
       "      <td>2.000000</td>\n",
       "      <td>9.000000</td>\n",
       "    </tr>\n",
       "  </tbody>\n",
       "</table>\n",
       "<p>8 rows × 360 columns</p>\n",
       "</div>"
      ],
      "text/plain": [
       "                LNR       AGER_TYP     AKT_DAT_KL       ALTER_HH  \\\n",
       "count  8.912210e+05  891221.000000  817722.000000  817722.000000   \n",
       "mean   6.372630e+05      -0.358435       4.421928      10.864126   \n",
       "std    2.572735e+05       1.198724       3.638805       7.639683   \n",
       "min    1.916530e+05      -1.000000       1.000000       0.000000   \n",
       "25%    4.144580e+05      -1.000000       1.000000       0.000000   \n",
       "50%    6.372630e+05      -1.000000       3.000000      13.000000   \n",
       "75%    8.600680e+05      -1.000000       9.000000      17.000000   \n",
       "max    1.082873e+06       3.000000       9.000000      21.000000   \n",
       "\n",
       "        ALTER_KIND1   ALTER_KIND2  ALTER_KIND3  ALTER_KIND4  \\\n",
       "count  81058.000000  29499.000000  6170.000000  1205.000000   \n",
       "mean      11.745392     13.402658    14.476013    15.089627   \n",
       "std        4.097660      3.243300     2.712427     2.452932   \n",
       "min        2.000000      2.000000     4.000000     7.000000   \n",
       "25%        8.000000     11.000000    13.000000    14.000000   \n",
       "50%       12.000000     14.000000    15.000000    15.000000   \n",
       "75%       15.000000     16.000000    17.000000    17.000000   \n",
       "max       18.000000     18.000000    18.000000    18.000000   \n",
       "\n",
       "       ALTERSKATEGORIE_FEIN  ANZ_HAUSHALTE_AKTIV          ...           \\\n",
       "count         628274.000000        798073.000000          ...            \n",
       "mean              13.700717             8.287263          ...            \n",
       "std                5.079849            15.628087          ...            \n",
       "min                0.000000             0.000000          ...            \n",
       "25%               11.000000             1.000000          ...            \n",
       "50%               14.000000             4.000000          ...            \n",
       "75%               17.000000             9.000000          ...            \n",
       "max               25.000000           595.000000          ...            \n",
       "\n",
       "                 VHN       VK_DHT4A     VK_DISTANZ        VK_ZG11  \\\n",
       "count  770025.000000  815304.000000  815304.000000  815304.000000   \n",
       "mean        2.417322       6.001214       7.532130       5.945972   \n",
       "std         1.166572       2.856091       3.247789       2.771464   \n",
       "min         0.000000       1.000000       1.000000       1.000000   \n",
       "25%         2.000000       3.000000       5.000000       4.000000   \n",
       "50%         2.000000       6.000000       8.000000       6.000000   \n",
       "75%         3.000000       9.000000      10.000000       8.000000   \n",
       "max         4.000000      11.000000      13.000000      11.000000   \n",
       "\n",
       "       W_KEIT_KIND_HH  WOHNDAUER_2008       WOHNLAGE       ZABEOTYP  \\\n",
       "count   783619.000000   817722.000000  798073.000000  891221.000000   \n",
       "mean         3.933406        7.908791       4.052836       3.362438   \n",
       "std          1.964701        1.923137       1.949539       1.352704   \n",
       "min          0.000000        1.000000       0.000000       1.000000   \n",
       "25%          2.000000        8.000000       3.000000       3.000000   \n",
       "50%          4.000000        9.000000       3.000000       3.000000   \n",
       "75%          6.000000        9.000000       5.000000       4.000000   \n",
       "max          6.000000        9.000000       8.000000       6.000000   \n",
       "\n",
       "           ANREDE_KZ  ALTERSKATEGORIE_GROB  \n",
       "count  891221.000000         891221.000000  \n",
       "mean        1.522098              2.777398  \n",
       "std         0.499512              1.068775  \n",
       "min         1.000000              1.000000  \n",
       "25%         1.000000              2.000000  \n",
       "50%         2.000000              3.000000  \n",
       "75%         2.000000              4.000000  \n",
       "max         2.000000              9.000000  \n",
       "\n",
       "[8 rows x 360 columns]"
      ]
     },
     "execution_count": 19,
     "metadata": {},
     "output_type": "execute_result"
    }
   ],
   "source": [
    "azdias.describe()"
   ]
  },
  {
   "cell_type": "code",
   "execution_count": 20,
   "metadata": {},
   "outputs": [
    {
     "data": {
      "text/html": [
       "<div>\n",
       "<style scoped>\n",
       "    .dataframe tbody tr th:only-of-type {\n",
       "        vertical-align: middle;\n",
       "    }\n",
       "\n",
       "    .dataframe tbody tr th {\n",
       "        vertical-align: top;\n",
       "    }\n",
       "\n",
       "    .dataframe thead th {\n",
       "        text-align: right;\n",
       "    }\n",
       "</style>\n",
       "<table border=\"1\" class=\"dataframe\">\n",
       "  <thead>\n",
       "    <tr style=\"text-align: right;\">\n",
       "      <th></th>\n",
       "      <th>LNR</th>\n",
       "      <th>AGER_TYP</th>\n",
       "      <th>AKT_DAT_KL</th>\n",
       "      <th>ALTER_HH</th>\n",
       "      <th>ALTER_KIND1</th>\n",
       "      <th>ALTER_KIND2</th>\n",
       "      <th>ALTER_KIND3</th>\n",
       "      <th>ALTER_KIND4</th>\n",
       "      <th>ALTERSKATEGORIE_FEIN</th>\n",
       "      <th>ANZ_HAUSHALTE_AKTIV</th>\n",
       "      <th>...</th>\n",
       "      <th>VK_DHT4A</th>\n",
       "      <th>VK_DISTANZ</th>\n",
       "      <th>VK_ZG11</th>\n",
       "      <th>W_KEIT_KIND_HH</th>\n",
       "      <th>WOHNDAUER_2008</th>\n",
       "      <th>WOHNLAGE</th>\n",
       "      <th>ZABEOTYP</th>\n",
       "      <th>ONLINE_PURCHASE</th>\n",
       "      <th>ANREDE_KZ</th>\n",
       "      <th>ALTERSKATEGORIE_GROB</th>\n",
       "    </tr>\n",
       "  </thead>\n",
       "  <tbody>\n",
       "    <tr>\n",
       "      <th>count</th>\n",
       "      <td>191652.000000</td>\n",
       "      <td>191652.000000</td>\n",
       "      <td>145056.000000</td>\n",
       "      <td>145056.000000</td>\n",
       "      <td>11766.000000</td>\n",
       "      <td>5100.000000</td>\n",
       "      <td>1275.000000</td>\n",
       "      <td>236.000000</td>\n",
       "      <td>139810.000000</td>\n",
       "      <td>141725.000000</td>\n",
       "      <td>...</td>\n",
       "      <td>143781.000000</td>\n",
       "      <td>143781.000000</td>\n",
       "      <td>143781.000000</td>\n",
       "      <td>137910.000000</td>\n",
       "      <td>145056.000000</td>\n",
       "      <td>141725.000000</td>\n",
       "      <td>191652.000000</td>\n",
       "      <td>191652.000000</td>\n",
       "      <td>191652.000000</td>\n",
       "      <td>191652.000000</td>\n",
       "    </tr>\n",
       "    <tr>\n",
       "      <th>mean</th>\n",
       "      <td>95826.500000</td>\n",
       "      <td>0.344359</td>\n",
       "      <td>1.747525</td>\n",
       "      <td>11.352009</td>\n",
       "      <td>12.337243</td>\n",
       "      <td>13.672353</td>\n",
       "      <td>14.647059</td>\n",
       "      <td>15.377119</td>\n",
       "      <td>10.331579</td>\n",
       "      <td>4.965863</td>\n",
       "      <td>...</td>\n",
       "      <td>4.374417</td>\n",
       "      <td>4.564769</td>\n",
       "      <td>3.168868</td>\n",
       "      <td>4.152716</td>\n",
       "      <td>8.646371</td>\n",
       "      <td>3.723133</td>\n",
       "      <td>2.576806</td>\n",
       "      <td>0.090247</td>\n",
       "      <td>1.376432</td>\n",
       "      <td>3.060907</td>\n",
       "    </tr>\n",
       "    <tr>\n",
       "      <th>std</th>\n",
       "      <td>55325.311233</td>\n",
       "      <td>1.391672</td>\n",
       "      <td>1.966334</td>\n",
       "      <td>6.275026</td>\n",
       "      <td>4.006050</td>\n",
       "      <td>3.243335</td>\n",
       "      <td>2.753787</td>\n",
       "      <td>2.307653</td>\n",
       "      <td>4.134828</td>\n",
       "      <td>14.309694</td>\n",
       "      <td>...</td>\n",
       "      <td>2.924355</td>\n",
       "      <td>2.887035</td>\n",
       "      <td>2.233516</td>\n",
       "      <td>1.974375</td>\n",
       "      <td>1.154001</td>\n",
       "      <td>2.095540</td>\n",
       "      <td>1.168486</td>\n",
       "      <td>0.286536</td>\n",
       "      <td>0.484492</td>\n",
       "      <td>1.086254</td>\n",
       "    </tr>\n",
       "    <tr>\n",
       "      <th>min</th>\n",
       "      <td>1.000000</td>\n",
       "      <td>-1.000000</td>\n",
       "      <td>1.000000</td>\n",
       "      <td>0.000000</td>\n",
       "      <td>2.000000</td>\n",
       "      <td>2.000000</td>\n",
       "      <td>5.000000</td>\n",
       "      <td>8.000000</td>\n",
       "      <td>0.000000</td>\n",
       "      <td>0.000000</td>\n",
       "      <td>...</td>\n",
       "      <td>1.000000</td>\n",
       "      <td>1.000000</td>\n",
       "      <td>1.000000</td>\n",
       "      <td>0.000000</td>\n",
       "      <td>1.000000</td>\n",
       "      <td>0.000000</td>\n",
       "      <td>1.000000</td>\n",
       "      <td>0.000000</td>\n",
       "      <td>1.000000</td>\n",
       "      <td>1.000000</td>\n",
       "    </tr>\n",
       "    <tr>\n",
       "      <th>25%</th>\n",
       "      <td>47913.750000</td>\n",
       "      <td>-1.000000</td>\n",
       "      <td>1.000000</td>\n",
       "      <td>8.000000</td>\n",
       "      <td>9.000000</td>\n",
       "      <td>11.000000</td>\n",
       "      <td>13.000000</td>\n",
       "      <td>14.000000</td>\n",
       "      <td>9.000000</td>\n",
       "      <td>1.000000</td>\n",
       "      <td>...</td>\n",
       "      <td>2.000000</td>\n",
       "      <td>2.000000</td>\n",
       "      <td>1.000000</td>\n",
       "      <td>2.000000</td>\n",
       "      <td>9.000000</td>\n",
       "      <td>2.000000</td>\n",
       "      <td>1.000000</td>\n",
       "      <td>0.000000</td>\n",
       "      <td>1.000000</td>\n",
       "      <td>3.000000</td>\n",
       "    </tr>\n",
       "    <tr>\n",
       "      <th>50%</th>\n",
       "      <td>95826.500000</td>\n",
       "      <td>0.000000</td>\n",
       "      <td>1.000000</td>\n",
       "      <td>11.000000</td>\n",
       "      <td>13.000000</td>\n",
       "      <td>14.000000</td>\n",
       "      <td>15.000000</td>\n",
       "      <td>16.000000</td>\n",
       "      <td>10.000000</td>\n",
       "      <td>1.000000</td>\n",
       "      <td>...</td>\n",
       "      <td>4.000000</td>\n",
       "      <td>4.000000</td>\n",
       "      <td>3.000000</td>\n",
       "      <td>5.000000</td>\n",
       "      <td>9.000000</td>\n",
       "      <td>3.000000</td>\n",
       "      <td>3.000000</td>\n",
       "      <td>0.000000</td>\n",
       "      <td>1.000000</td>\n",
       "      <td>3.000000</td>\n",
       "    </tr>\n",
       "    <tr>\n",
       "      <th>75%</th>\n",
       "      <td>143739.250000</td>\n",
       "      <td>2.000000</td>\n",
       "      <td>1.000000</td>\n",
       "      <td>16.000000</td>\n",
       "      <td>16.000000</td>\n",
       "      <td>16.000000</td>\n",
       "      <td>17.000000</td>\n",
       "      <td>17.000000</td>\n",
       "      <td>13.000000</td>\n",
       "      <td>4.000000</td>\n",
       "      <td>...</td>\n",
       "      <td>7.000000</td>\n",
       "      <td>7.000000</td>\n",
       "      <td>4.000000</td>\n",
       "      <td>6.000000</td>\n",
       "      <td>9.000000</td>\n",
       "      <td>5.000000</td>\n",
       "      <td>3.000000</td>\n",
       "      <td>0.000000</td>\n",
       "      <td>2.000000</td>\n",
       "      <td>4.000000</td>\n",
       "    </tr>\n",
       "    <tr>\n",
       "      <th>max</th>\n",
       "      <td>191652.000000</td>\n",
       "      <td>3.000000</td>\n",
       "      <td>9.000000</td>\n",
       "      <td>21.000000</td>\n",
       "      <td>18.000000</td>\n",
       "      <td>18.000000</td>\n",
       "      <td>18.000000</td>\n",
       "      <td>18.000000</td>\n",
       "      <td>25.000000</td>\n",
       "      <td>523.000000</td>\n",
       "      <td>...</td>\n",
       "      <td>11.000000</td>\n",
       "      <td>13.000000</td>\n",
       "      <td>11.000000</td>\n",
       "      <td>6.000000</td>\n",
       "      <td>9.000000</td>\n",
       "      <td>8.000000</td>\n",
       "      <td>6.000000</td>\n",
       "      <td>1.000000</td>\n",
       "      <td>2.000000</td>\n",
       "      <td>9.000000</td>\n",
       "    </tr>\n",
       "  </tbody>\n",
       "</table>\n",
       "<p>8 rows × 361 columns</p>\n",
       "</div>"
      ],
      "text/plain": [
       "                 LNR       AGER_TYP     AKT_DAT_KL       ALTER_HH  \\\n",
       "count  191652.000000  191652.000000  145056.000000  145056.000000   \n",
       "mean    95826.500000       0.344359       1.747525      11.352009   \n",
       "std     55325.311233       1.391672       1.966334       6.275026   \n",
       "min         1.000000      -1.000000       1.000000       0.000000   \n",
       "25%     47913.750000      -1.000000       1.000000       8.000000   \n",
       "50%     95826.500000       0.000000       1.000000      11.000000   \n",
       "75%    143739.250000       2.000000       1.000000      16.000000   \n",
       "max    191652.000000       3.000000       9.000000      21.000000   \n",
       "\n",
       "        ALTER_KIND1  ALTER_KIND2  ALTER_KIND3  ALTER_KIND4  \\\n",
       "count  11766.000000  5100.000000  1275.000000   236.000000   \n",
       "mean      12.337243    13.672353    14.647059    15.377119   \n",
       "std        4.006050     3.243335     2.753787     2.307653   \n",
       "min        2.000000     2.000000     5.000000     8.000000   \n",
       "25%        9.000000    11.000000    13.000000    14.000000   \n",
       "50%       13.000000    14.000000    15.000000    16.000000   \n",
       "75%       16.000000    16.000000    17.000000    17.000000   \n",
       "max       18.000000    18.000000    18.000000    18.000000   \n",
       "\n",
       "       ALTERSKATEGORIE_FEIN  ANZ_HAUSHALTE_AKTIV          ...           \\\n",
       "count         139810.000000        141725.000000          ...            \n",
       "mean              10.331579             4.965863          ...            \n",
       "std                4.134828            14.309694          ...            \n",
       "min                0.000000             0.000000          ...            \n",
       "25%                9.000000             1.000000          ...            \n",
       "50%               10.000000             1.000000          ...            \n",
       "75%               13.000000             4.000000          ...            \n",
       "max               25.000000           523.000000          ...            \n",
       "\n",
       "            VK_DHT4A     VK_DISTANZ        VK_ZG11  W_KEIT_KIND_HH  \\\n",
       "count  143781.000000  143781.000000  143781.000000   137910.000000   \n",
       "mean        4.374417       4.564769       3.168868        4.152716   \n",
       "std         2.924355       2.887035       2.233516        1.974375   \n",
       "min         1.000000       1.000000       1.000000        0.000000   \n",
       "25%         2.000000       2.000000       1.000000        2.000000   \n",
       "50%         4.000000       4.000000       3.000000        5.000000   \n",
       "75%         7.000000       7.000000       4.000000        6.000000   \n",
       "max        11.000000      13.000000      11.000000        6.000000   \n",
       "\n",
       "       WOHNDAUER_2008       WOHNLAGE       ZABEOTYP  ONLINE_PURCHASE  \\\n",
       "count   145056.000000  141725.000000  191652.000000    191652.000000   \n",
       "mean         8.646371       3.723133       2.576806         0.090247   \n",
       "std          1.154001       2.095540       1.168486         0.286536   \n",
       "min          1.000000       0.000000       1.000000         0.000000   \n",
       "25%          9.000000       2.000000       1.000000         0.000000   \n",
       "50%          9.000000       3.000000       3.000000         0.000000   \n",
       "75%          9.000000       5.000000       3.000000         0.000000   \n",
       "max          9.000000       8.000000       6.000000         1.000000   \n",
       "\n",
       "           ANREDE_KZ  ALTERSKATEGORIE_GROB  \n",
       "count  191652.000000         191652.000000  \n",
       "mean        1.376432              3.060907  \n",
       "std         0.484492              1.086254  \n",
       "min         1.000000              1.000000  \n",
       "25%         1.000000              3.000000  \n",
       "50%         1.000000              3.000000  \n",
       "75%         2.000000              4.000000  \n",
       "max         2.000000              9.000000  \n",
       "\n",
       "[8 rows x 361 columns]"
      ]
     },
     "execution_count": 20,
     "metadata": {},
     "output_type": "execute_result"
    }
   ],
   "source": [
    "customers.describe()"
   ]
  },
  {
   "cell_type": "markdown",
   "metadata": {},
   "source": [
    "#### Missing values"
   ]
  },
  {
   "cell_type": "markdown",
   "metadata": {},
   "source": [
    "For some attributes a value denotes a missing information according to the \"DIAS Attributes - Values 2017.xlsx\". Firstly, the corresponding value(s) needs to be identified for each attribute. The respective value(s) can then be replaced by nans in each column."
   ]
  },
  {
   "cell_type": "code",
   "execution_count": 21,
   "metadata": {},
   "outputs": [],
   "source": [
    "# Load Excel and filter for missing value classes\n",
    "attr_values = pd.read_excel('DIAS Attributes - Values 2017.xlsx', usecols='B:E', dtype='str')\n",
    "missing_keys = attr_values[attr_values[\"Meaning\"].isin([\"unknown\",\"unknown / no main age detectable\"])]"
   ]
  },
  {
   "cell_type": "code",
   "execution_count": 22,
   "metadata": {},
   "outputs": [],
   "source": [
    "# Create dict of missing attribute-value combinations\n",
    "missing_keys_dict = {}\n",
    "for _, row in missing_keys.iterrows():\n",
    "    key = row[\"Attribute\"]\n",
    "    missing_keys_dict[key] = row[\"Value\"].split(\", \")\n",
    "\n",
    "# Manually add missing codes from other/similar attributes \n",
    "missing_keys_dict[\"CAMEO_INTL_2015\"] = ['XX']\n",
    "missing_keys_dict[\"CAMEO_DEUG_2015\"] = ['X','XX']\n",
    "missing_keys_dict[\"CAMEO_DEU_2015\"] =['XX']\n",
    "missing_keys_dict[\"GEBURTSJAHR\"] = ['0']\n",
    "missing_keys_dict[\"CAMEO_INTL_2015\"] == missing_keys_dict[\"CAMEO_DEUINTL_2015\"]\n",
    "missing_keys_dict[\"KBA13_CCM_1401_2500\"] = missing_keys_dict[\"KBA13_CCM_1400_2500\"]\n",
    "missing_keys_dict[\"KBA13_BAUMAX\"] = missing_keys_dict[\"KBA05_BAUMAX\"]\n",
    "missing_keys_dict[\"KBA13_ANTG1\"] =  missing_keys_dict[\"KBA05_ANTG1\"]\n",
    "missing_keys_dict[\"KBA13_ANTG2\"] =  missing_keys_dict[\"KBA05_ANTG2\"]\n",
    "missing_keys_dict[\"KBA13_ANTG3\"] =  missing_keys_dict[\"KBA05_ANTG3\"]\n",
    "missing_keys_dict[\"KBA13_ANTG4\"] =  missing_keys_dict[\"KBA05_ANTG4\"]"
   ]
  },
  {
   "cell_type": "code",
   "execution_count": 23,
   "metadata": {},
   "outputs": [],
   "source": [
    "convert_keys_to_nan(azdias, missing_keys_dict)"
   ]
  },
  {
   "cell_type": "markdown",
   "metadata": {},
   "source": [
    "##### Missing columns"
   ]
  },
  {
   "cell_type": "code",
   "execution_count": 24,
   "metadata": {},
   "outputs": [],
   "source": [
    "# Count and share of missing values\n",
    "azdias_null = azdias.isnull().sum()\n",
    "azdias_null_share = azdias_null/len(azdias) * 100"
   ]
  },
  {
   "cell_type": "code",
   "execution_count": 25,
   "metadata": {},
   "outputs": [
    {
     "data": {
      "image/png": "[encoded data removed]",
      "text/plain": [
       "<Figure size 1152x576 with 1 Axes>"
      ]
     },
     "metadata": {
      "needs_background": "light"
     },
     "output_type": "display_data"
    }
   ],
   "source": [
    "# Plot 100 columns with highest share of missing values\n",
    "ax = azdias_null_share.sort_values(ascending=False).head(100).plot(kind='bar', figsize=(16,8), title='Top 100 missing columns')\n",
    "ax.set_xlabel(\"Column name\")\n",
    "ax.set_ylabel(\"Share of missing values %\")\n",
    "ax.figure.savefig('top_missing.png', dpi=500);"
   ]
  },
  {
   "cell_type": "markdown",
   "metadata": {},
   "source": [
    "8 columns have 60% or more missing values. Most of the columns have less than 20% missing values."
   ]
  },
  {
   "cell_type": "code",
   "execution_count": 26,
   "metadata": {},
   "outputs": [
    {
     "data": {
      "image/png": "[encoded data removed]",
      "text/plain": [
       "<Figure size 1152x432 with 1 Axes>"
      ]
     },
     "metadata": {
      "needs_background": "light"
     },
     "output_type": "display_data"
    }
   ],
   "source": [
    "# Plot distribution of missing values\n",
    "plt.figure(figsize=(16,6))\n",
    "plt.hist(azdias_null_share, bins=np.linspace(5,100))\n",
    "\n",
    "plt.xticks(np.arange(0, 100, 5))\n",
    "plt.ylabel('# of columns')\n",
    "plt.xlabel('% of missing data')\n",
    "plt.title('Distribution of missing data')\n",
    "plt.savefig('distribution_missing.png', dpi=500);"
   ]
  },
  {
   "cell_type": "code",
   "execution_count": 27,
   "metadata": {},
   "outputs": [
    {
     "data": {
      "text/plain": [
       "count    366.000000\n",
       "mean      11.486055\n",
       "std       13.829709\n",
       "min        0.000000\n",
       "25%        0.544646\n",
       "50%       11.871354\n",
       "75%       13.073637\n",
       "max       99.864792\n",
       "dtype: float64"
      ]
     },
     "execution_count": 27,
     "metadata": {},
     "output_type": "execute_result"
    }
   ],
   "source": [
    "azdias_null_share.describe()"
   ]
  },
  {
   "cell_type": "code",
   "execution_count": 28,
   "metadata": {},
   "outputs": [
    {
     "name": "stdout",
     "output_type": "stream",
     "text": [
      "On average, columns have a missing share of 11.5%.\n"
     ]
    }
   ],
   "source": [
    "print(\"On average, columns have a missing share of {}%.\".format(round(azdias_null_share.mean(),1)))"
   ]
  },
  {
   "cell_type": "code",
   "execution_count": 29,
   "metadata": {},
   "outputs": [
    {
     "name": "stdout",
     "output_type": "stream",
     "text": [
      "97% of columns have a missing share of 29.8% or less.\n"
     ]
    }
   ],
   "source": [
    "print(\"97% of columns have a missing share of {}% or less.\".format(round(azdias_null_share.quantile(0.97),1)))"
   ]
  },
  {
   "cell_type": "code",
   "execution_count": 30,
   "metadata": {},
   "outputs": [
    {
     "name": "stdout",
     "output_type": "stream",
     "text": [
      "11 columns that have more than 30% missing values will be dropped: ['AGER_TYP', 'ALTER_HH', 'ALTER_KIND1', 'ALTER_KIND2', 'ALTER_KIND3', 'ALTER_KIND4', 'EXTSEL992', 'GEBURTSJAHR', 'KBA05_BAUMAX', 'KK_KUNDENTYP', 'TITEL_KZ']\n"
     ]
    }
   ],
   "source": [
    "drop_null_cols = list(azdias_null_share[azdias_null_share>30].index)\n",
    "print(\"{} columns that have more than 30% missing values will be dropped: {}\".format(len(drop_null_cols),drop_null_cols))"
   ]
  },
  {
   "cell_type": "markdown",
   "metadata": {},
   "source": [
    "##### Other columns to drop"
   ]
  },
  {
   "cell_type": "code",
   "execution_count": 31,
   "metadata": {},
   "outputs": [],
   "source": [
    "cat_columns = azdias.select_dtypes(['object']).columns"
   ]
  },
  {
   "cell_type": "code",
   "execution_count": 32,
   "metadata": {},
   "outputs": [
    {
     "name": "stdout",
     "output_type": "stream",
     "text": [
      "Column CAMEO_DEU_2015: 44 unique values\n",
      "Column CAMEO_DEUG_2015: 9 unique values\n",
      "Column CAMEO_INTL_2015: 21 unique values\n",
      "Column D19_LETZTER_KAUF_BRANCHE: 35 unique values\n",
      "Column EINGEFUEGT_AM: 5162 unique values\n",
      "Column OST_WEST_KZ: 2 unique values\n"
     ]
    }
   ],
   "source": [
    "for col in cat_columns:\n",
    "    print(\"Column {}: {} unique values\".format(col, azdias[col].nunique()))"
   ]
  },
  {
   "cell_type": "markdown",
   "metadata": {},
   "source": [
    "* 'CAMEO_DEU_2015' has many unique values but will be kept as it might be a powerful feature. \n",
    "* 'CAMEO_DEUG_2015' and 'CAMEO_INTL_2015' will be dropped as they are similar attributes to 'CAMEO_DEU_2015'.\n",
    "* 'D19_LETZTER_KAUF_BRANCHE' will be dropped due to many unique values.\n",
    "* 'EINGEFUEGT_AM' will be transformed to datetime year.\n",
    "* 'OST_WEST_KZ' will be converted to 0/1 with 0 = OST and 1 = WEST"
   ]
  },
  {
   "cell_type": "markdown",
   "metadata": {},
   "source": [
    "'LNR' is the unique identifier of each person and will be dropped as well."
   ]
  },
  {
   "cell_type": "code",
   "execution_count": 33,
   "metadata": {},
   "outputs": [
    {
     "name": "stdout",
     "output_type": "stream",
     "text": [
      "15 columns will be dropped from the dataset: ['AGER_TYP', 'ALTER_HH', 'ALTER_KIND1', 'ALTER_KIND2', 'ALTER_KIND3', 'ALTER_KIND4', 'EXTSEL992', 'GEBURTSJAHR', 'KBA05_BAUMAX', 'KK_KUNDENTYP', 'TITEL_KZ', 'CAMEO_DEUG_2015', 'CAMEO_INTL_2015', 'D19_LETZTER_KAUF_BRANCHE', 'LNR']\n"
     ]
    }
   ],
   "source": [
    "# append to drop cols\n",
    "drop_cols = drop_null_cols + ['CAMEO_DEUG_2015', 'CAMEO_INTL_2015', 'D19_LETZTER_KAUF_BRANCHE', 'LNR']\n",
    "print(\"{} columns will be dropped from the dataset: {}\".format(len(drop_cols), drop_cols))"
   ]
  },
  {
   "cell_type": "markdown",
   "metadata": {},
   "source": [
    "##### Missing rows"
   ]
  },
  {
   "cell_type": "code",
   "execution_count": 34,
   "metadata": {
    "scrolled": false
   },
   "outputs": [
    {
     "data": {
      "image/png": "[encoded data removed]",
      "text/plain": [
       "<Figure size 1152x432 with 1 Axes>"
      ]
     },
     "metadata": {
      "needs_background": "light"
     },
     "output_type": "display_data"
    }
   ],
   "source": [
    "# Plot distribution of missing values\n",
    "x = azdias.isnull().sum(axis=1)\n",
    "plt.figure(figsize=(16,6))\n",
    "plt.hist(x, bins=np.linspace(min(x), max(x)+1))\n",
    "\n",
    "plt.xticks(np.arange(min(x), max(x)+1, 10))\n",
    "plt.ylabel('# of rows')\n",
    "plt.xlabel('# of missing values')\n",
    "plt.title('Distribution of missing values');"
   ]
  },
  {
   "cell_type": "code",
   "execution_count": 35,
   "metadata": {},
   "outputs": [],
   "source": [
    "azdias_null_rows = azdias.isnull().sum(axis=1)"
   ]
  },
  {
   "cell_type": "code",
   "execution_count": 36,
   "metadata": {
    "scrolled": false
   },
   "outputs": [
    {
     "data": {
      "image/png": "[encoded data removed]",
      "text/plain": [
       "<Figure size 1152x432 with 1 Axes>"
      ]
     },
     "metadata": {
      "needs_background": "light"
     },
     "output_type": "display_data"
    }
   ],
   "source": [
    "x = (azdias_null_rows.value_counts().sort_index().cumsum()/len(azdias)) * 100\n",
    "plt.figure(figsize=(16,6))\n",
    "plt.plot(x)\n",
    "\n",
    "plt.yticks(np.arange(0, 100+5, 5))\n",
    "plt.xticks(np.arange(min(x.index), max(x.index)+1, 10))\n",
    "plt.ylabel('Share of rows %')\n",
    "plt.xlabel('# of missing values')\n",
    "plt.title('Cumulative Distribution of missing values')\n",
    "plt.savefig('dist_missing_rows.png', dpi=500);"
   ]
  },
  {
   "cell_type": "code",
   "execution_count": 37,
   "metadata": {},
   "outputs": [
    {
     "data": {
      "text/plain": [
       "count    891221.000000\n",
       "mean         42.038960\n",
       "std          76.354371\n",
       "min           1.000000\n",
       "25%           7.000000\n",
       "50%          10.000000\n",
       "75%          20.000000\n",
       "max         265.000000\n",
       "dtype: float64"
      ]
     },
     "execution_count": 37,
     "metadata": {},
     "output_type": "execute_result"
    }
   ],
   "source": [
    "azdias_null_rows.describe()"
   ]
  },
  {
   "cell_type": "code",
   "execution_count": 38,
   "metadata": {},
   "outputs": [
    {
     "data": {
      "text/plain": [
       "16    64.306721\n",
       "17    66.954437\n",
       "18    69.518559\n",
       "19    71.136228\n",
       "20    75.611885\n",
       "21    79.330267\n",
       "22    79.977806\n",
       "23    80.487668\n",
       "24    80.799712\n",
       "25    81.115458\n",
       "26    81.729896\n",
       "27    82.211258\n",
       "28    82.347813\n",
       "29    82.437577\n",
       "30    82.505237\n",
       "dtype: float64"
      ]
     },
     "execution_count": 38,
     "metadata": {},
     "output_type": "execute_result"
    }
   ],
   "source": [
    "x[15:30]"
   ]
  },
  {
   "cell_type": "markdown",
   "metadata": {},
   "source": [
    "~82% of rows have 16 or less missing values. Dropping all rows with more than 16 missing values results in a loss of 18% of rows. This is were the line is drawn."
   ]
  },
  {
   "cell_type": "markdown",
   "metadata": {},
   "source": [
    "### Clean data"
   ]
  },
  {
   "cell_type": "code",
   "execution_count": 39,
   "metadata": {},
   "outputs": [
    {
     "name": "stdout",
     "output_type": "stream",
     "text": [
      "Old shape: (891221, 366)\n",
      "159296 rows and 15 columns dropped.\n",
      "New shape: (731925, 351) \n",
      "\n",
      "Datatypes:\n",
      "float64    265\n",
      "int64       85\n",
      "object       1\n",
      "dtype: int64\n"
     ]
    }
   ],
   "source": [
    "azdias_clean = clean_dataframe(azdias, drop_cols)"
   ]
  },
  {
   "cell_type": "code",
   "execution_count": 40,
   "metadata": {},
   "outputs": [
    {
     "name": "stdout",
     "output_type": "stream",
     "text": [
      "Old shape: (191652, 366)\n",
      "59550 rows and 15 columns dropped.\n",
      "New shape: (132102, 351) \n",
      "\n",
      "Datatypes:\n",
      "float64    260\n",
      "int64       90\n",
      "object       1\n",
      "dtype: int64\n"
     ]
    }
   ],
   "source": [
    "customers_clean = clean_dataframe(customers.drop(['CUSTOMER_GROUP', 'ONLINE_PURCHASE', 'PRODUCT_GROUP'], axis=1), drop_cols)"
   ]
  },
  {
   "cell_type": "markdown",
   "metadata": {},
   "source": [
    "### Impute, transform, and standardize features"
   ]
  },
  {
   "cell_type": "markdown",
   "metadata": {},
   "source": [
    "#### Classify attribute types and build pipelines"
   ]
  },
  {
   "cell_type": "markdown",
   "metadata": {},
   "source": [
    "Imputation should be based on the type of attribute:\n",
    "* **Skewed continuous:** There are (at least) 7 attributes in the dataset that are continuous numbers, like number of people in household. In contrast most other numerical values are discrete and denote a specific classification. Continuous numbers that show highly skewed distribution should be log-transformed first before imputation. Missing values are then median imputed after transformation.\n",
    "* **Binary:** Some attributes only take 2 (non-missing) values. Missing values should be imputed based on the most common value.\n",
    "* **Categorical:** These will be one-hot encoded first and then imputed like binary attributes (most common value).\n",
    "* **Numerical:** Missing values of numerical attributes will be imputed based on the median value."
   ]
  },
  {
   "cell_type": "markdown",
   "metadata": {},
   "source": [
    "##### Skewed continuous"
   ]
  },
  {
   "cell_type": "code",
   "execution_count": 41,
   "metadata": {},
   "outputs": [],
   "source": [
    "continuous_cols = ['ANZ_HAUSHALTE_AKTIV', 'ANZ_HH_TITEL', 'ANZ_PERSONEN', 'ANZ_TITEL', 'GEBURTSJAHR', 'KBA13_ANZAHL_PKW', 'MIN_GEBAEUDEJAHR']"
   ]
  },
  {
   "cell_type": "code",
   "execution_count": 42,
   "metadata": {},
   "outputs": [
    {
     "name": "stdout",
     "output_type": "stream",
     "text": [
      "ANZ_HAUSHALTE_AKTIV, Skewness: 8.7\n",
      "ANZ_HH_TITEL, Skewness: 22.4\n",
      "ANZ_PERSONEN, Skewness: 1.8\n",
      "ANZ_TITEL, Skewness: 18.1\n",
      "KBA13_ANZAHL_PKW, Skewness: 1.3\n",
      "MIN_GEBAEUDEJAHR, Skewness: 3.1\n"
     ]
    }
   ],
   "source": [
    "skewed_cols = []\n",
    "for col in continuous_cols:\n",
    "    try:\n",
    "        skewness = skew(azdias_clean[col].dropna())\n",
    "        print(\"{}, Skewness: {}\".format(col, round(skewness,1)))\n",
    "        if abs(skewness) > 1:\n",
    "                        skewed_cols.append(col)\n",
    "    except:\n",
    "         pass"
   ]
  },
  {
   "cell_type": "code",
   "execution_count": 43,
   "metadata": {},
   "outputs": [
    {
     "data": {
      "text/plain": [
       "['ANZ_HAUSHALTE_AKTIV',\n",
       " 'ANZ_HH_TITEL',\n",
       " 'ANZ_PERSONEN',\n",
       " 'ANZ_TITEL',\n",
       " 'KBA13_ANZAHL_PKW',\n",
       " 'MIN_GEBAEUDEJAHR']"
      ]
     },
     "execution_count": 43,
     "metadata": {},
     "output_type": "execute_result"
    }
   ],
   "source": [
    "skewed_cols"
   ]
  },
  {
   "cell_type": "code",
   "execution_count": 44,
   "metadata": {},
   "outputs": [],
   "source": [
    "# Transform-impute Pipeline\n",
    "skew_pipeline = Pipeline([\n",
    "    ('log_transform', FunctionTransformer(np.log1p)),\n",
    "    ('log_impute', SimpleImputer(missing_values=np.nan, strategy='median')),\n",
    "    ('log_scale', StandardScaler())\n",
    "])"
   ]
  },
  {
   "cell_type": "markdown",
   "metadata": {},
   "source": [
    "##### Binary"
   ]
  },
  {
   "cell_type": "code",
   "execution_count": 45,
   "metadata": {},
   "outputs": [],
   "source": [
    "num_cols = azdias_clean.select_dtypes(['float64', 'int64']).columns"
   ]
  },
  {
   "cell_type": "code",
   "execution_count": 46,
   "metadata": {},
   "outputs": [],
   "source": [
    "binary_cols = []\n",
    "for col in num_cols:\n",
    "    n_unique = azdias_clean[col].dropna().nunique()\n",
    "    if n_unique == 2:\n",
    "        binary_cols.append(col)"
   ]
  },
  {
   "cell_type": "code",
   "execution_count": 47,
   "metadata": {},
   "outputs": [
    {
     "data": {
      "text/plain": [
       "['DSL_FLAG',\n",
       " 'GREEN_AVANTGARDE',\n",
       " 'HH_DELTA_FLAG',\n",
       " 'KBA05_SEG6',\n",
       " 'KONSUMZELLE',\n",
       " 'OST_WEST_KZ',\n",
       " 'SOHO_KZ',\n",
       " 'UNGLEICHENN_FLAG',\n",
       " 'VERS_TYP',\n",
       " 'ANREDE_KZ']"
      ]
     },
     "execution_count": 47,
     "metadata": {},
     "output_type": "execute_result"
    }
   ],
   "source": [
    "binary_cols"
   ]
  },
  {
   "cell_type": "code",
   "execution_count": 48,
   "metadata": {},
   "outputs": [],
   "source": [
    "# Transform-impute Pipeline\n",
    "binary_pipeline = Pipeline([('bin_impute', SimpleImputer(missing_values=np.nan, strategy='most_frequent'))])"
   ]
  },
  {
   "cell_type": "markdown",
   "metadata": {},
   "source": [
    "##### Categorical"
   ]
  },
  {
   "cell_type": "code",
   "execution_count": 49,
   "metadata": {},
   "outputs": [
    {
     "data": {
      "text/plain": [
       "['CAMEO_DEU_2015']"
      ]
     },
     "execution_count": 49,
     "metadata": {},
     "output_type": "execute_result"
    }
   ],
   "source": [
    "categorical_cols = list(azdias_clean.select_dtypes(['object']).columns)\n",
    "categorical_cols"
   ]
  },
  {
   "cell_type": "code",
   "execution_count": 50,
   "metadata": {},
   "outputs": [],
   "source": [
    "categorical_pipeline = Pipeline([\n",
    "    ('bin_impute', SimpleImputer(missing_values=np.nan, strategy='most_frequent')),\n",
    "    ('onehot', OneHotEncoder(handle_unknown='ignore'))\n",
    "])"
   ]
  },
  {
   "cell_type": "markdown",
   "metadata": {},
   "source": [
    "##### Numerical"
   ]
  },
  {
   "cell_type": "code",
   "execution_count": 51,
   "metadata": {
    "scrolled": true
   },
   "outputs": [],
   "source": [
    "numerical_cols = list(set(azdias_clean.columns) - set(skewed_cols) - set(binary_cols) - set(categorical_cols))"
   ]
  },
  {
   "cell_type": "code",
   "execution_count": 52,
   "metadata": {},
   "outputs": [],
   "source": [
    "# Transform-impute Pipeline\n",
    "numerical_pipeline = Pipeline([\n",
    "    ('num_impute', SimpleImputer(missing_values=np.nan, strategy='median')),\n",
    "    ('num_scale', StandardScaler())\n",
    "])"
   ]
  },
  {
   "cell_type": "markdown",
   "metadata": {},
   "source": [
    "#### Combine pipelines"
   ]
  },
  {
   "cell_type": "code",
   "execution_count": 53,
   "metadata": {},
   "outputs": [],
   "source": [
    "transformers = [('skewed', skew_pipeline, skewed_cols),\n",
    "               ('binary', binary_pipeline, binary_cols),\n",
    "               ('categorical', categorical_pipeline, categorical_cols),\n",
    "               ('numerical', numerical_pipeline, numerical_cols)]"
   ]
  },
  {
   "cell_type": "code",
   "execution_count": 54,
   "metadata": {},
   "outputs": [],
   "source": [
    "column_transformer = ColumnTransformer(transformers = transformers)"
   ]
  },
  {
   "cell_type": "markdown",
   "metadata": {},
   "source": [
    "#### Transform features"
   ]
  },
  {
   "cell_type": "code",
   "execution_count": 55,
   "metadata": {},
   "outputs": [],
   "source": [
    "azdias_trans = column_transformer.fit_transform(azdias_clean)"
   ]
  },
  {
   "cell_type": "code",
   "execution_count": 56,
   "metadata": {},
   "outputs": [],
   "source": [
    "# Get column names from one hot encoded features\n",
    "dummy_cols = list(column_transformer.transformers_[2][1].named_steps['onehot'].get_feature_names(categorical_cols))"
   ]
  },
  {
   "cell_type": "code",
   "execution_count": 57,
   "metadata": {
    "scrolled": true
   },
   "outputs": [],
   "source": [
    "# Create list of column names for transformed dataframe\n",
    "column_names = skewed_cols + binary_cols + dummy_cols + numerical_cols"
   ]
  },
  {
   "cell_type": "code",
   "execution_count": 58,
   "metadata": {},
   "outputs": [],
   "source": [
    "# Create transformed dataframe\n",
    "azdias_trans = pd.DataFrame(azdias_trans, columns=[column_names])"
   ]
  },
  {
   "cell_type": "code",
   "execution_count": 59,
   "metadata": {},
   "outputs": [
    {
     "data": {
      "text/plain": [
       "float64    394\n",
       "dtype: int64"
      ]
     },
     "execution_count": 59,
     "metadata": {},
     "output_type": "execute_result"
    }
   ],
   "source": [
    "# Check if all features are numerical\n",
    "azdias_trans.get_dtype_counts()"
   ]
  },
  {
   "cell_type": "markdown",
   "metadata": {},
   "source": [
    "## Part 1: Customer Segmentation Report"
   ]
  },
  {
   "cell_type": "markdown",
   "metadata": {},
   "source": [
    "### Principal Component Analysis"
   ]
  },
  {
   "cell_type": "markdown",
   "metadata": {},
   "source": [
    "The cleaned and transformed Azdias dataset has 394 different features. The feature range can be reduced by applying PCA. "
   ]
  },
  {
   "cell_type": "code",
   "execution_count": 57,
   "metadata": {},
   "outputs": [],
   "source": [
    "# Fit PCA object\n",
    "pca = PCA().fit(azdias_trans)"
   ]
  },
  {
   "cell_type": "code",
   "execution_count": 61,
   "metadata": {},
   "outputs": [
    {
     "data": {
      "image/png": "[encoded data removed]",
      "text/plain": [
       "<Figure size 1152x432 with 1 Axes>"
      ]
     },
     "metadata": {
      "needs_background": "light"
     },
     "output_type": "display_data"
    }
   ],
   "source": [
    "# Plot scree plot\n",
    "fig = pca_scree_plot(pca)\n",
    "fig.savefig('scree_plot.png', dpi=500)"
   ]
  },
  {
   "cell_type": "code",
   "execution_count": 154,
   "metadata": {},
   "outputs": [],
   "source": [
    "cum_variance = pd.DataFrame(np.cumsum(pca.explained_variance_ratio_), columns=['cumulative_variance'])\n",
    "cum_variance.set_index(cum_variance.index+1, inplace=True)"
   ]
  },
  {
   "cell_type": "code",
   "execution_count": 155,
   "metadata": {
    "scrolled": true
   },
   "outputs": [
    {
     "name": "stdout",
     "output_type": "stream",
     "text": [
      "220 components explain 95% of variance in the dataset.\n"
     ]
    }
   ],
   "source": [
    "num_components = cum_variance[cum_variance['cumulative_variance']>.95].index[0]\n",
    "print('{} components explain 95% of variance in the dataset.'.format(num_components))"
   ]
  },
  {
   "cell_type": "markdown",
   "metadata": {},
   "source": [
    "Of the close to 400 features in the dataset there are **220** that explain 95% of the variance. The dataset can be reduced to almost half of its feature range while only losing 5% of variance."
   ]
  },
  {
   "cell_type": "code",
   "execution_count": 60,
   "metadata": {},
   "outputs": [],
   "source": [
    "pca = PCA(n_components=220).fit(azdias_trans)\n",
    "azdias_reduced = pd.DataFrame(pca.transform(azdias_trans))"
   ]
  },
  {
   "cell_type": "code",
   "execution_count": 61,
   "metadata": {},
   "outputs": [],
   "source": [
    "top_three_pca = pca.explained_variance_ratio_[:3]"
   ]
  },
  {
   "cell_type": "code",
   "execution_count": 62,
   "metadata": {},
   "outputs": [
    {
     "name": "stdout",
     "output_type": "stream",
     "text": [
      "The first three components explain 19.0% of variance.\n"
     ]
    }
   ],
   "source": [
    "print(\"The first three components explain {:.1%} of variance.\".format(top_three_pca.sum()))"
   ]
  },
  {
   "cell_type": "code",
   "execution_count": 63,
   "metadata": {},
   "outputs": [
    {
     "name": "stdout",
     "output_type": "stream",
     "text": [
      "Component 1 explains 8.6% of variance and is determined by: \n"
     ]
    },
    {
     "data": {
      "text/html": [
       "<div>\n",
       "<style scoped>\n",
       "    .dataframe tbody tr th:only-of-type {\n",
       "        vertical-align: middle;\n",
       "    }\n",
       "\n",
       "    .dataframe tbody tr th {\n",
       "        vertical-align: top;\n",
       "    }\n",
       "\n",
       "    .dataframe thead th {\n",
       "        text-align: right;\n",
       "    }\n",
       "</style>\n",
       "<table border=\"1\" class=\"dataframe\">\n",
       "  <thead>\n",
       "    <tr style=\"text-align: right;\">\n",
       "      <th></th>\n",
       "      <th>weight</th>\n",
       "    </tr>\n",
       "  </thead>\n",
       "  <tbody>\n",
       "    <tr>\n",
       "      <th>MOBI_REGIO</th>\n",
       "      <td>0.14</td>\n",
       "    </tr>\n",
       "    <tr>\n",
       "      <th>PLZ8_ANTG1</th>\n",
       "      <td>0.13</td>\n",
       "    </tr>\n",
       "    <tr>\n",
       "      <th>KBA13_ANTG1</th>\n",
       "      <td>0.13</td>\n",
       "    </tr>\n",
       "    <tr>\n",
       "      <th>LP_STATUS_FEIN</th>\n",
       "      <td>0.13</td>\n",
       "    </tr>\n",
       "    <tr>\n",
       "      <th>KBA05_ANTG1</th>\n",
       "      <td>0.13</td>\n",
       "    </tr>\n",
       "  </tbody>\n",
       "</table>\n",
       "</div>"
      ],
      "text/plain": [
       "                weight\n",
       "MOBI_REGIO        0.14\n",
       "PLZ8_ANTG1        0.13\n",
       "KBA13_ANTG1       0.13\n",
       "LP_STATUS_FEIN    0.13\n",
       "KBA05_ANTG1       0.13"
      ]
     },
     "execution_count": 63,
     "metadata": {},
     "output_type": "execute_result"
    }
   ],
   "source": [
    "print(\"Component 1 explains {:.1%} of variance and is determined by: \".format(top_three_pca[0]))\n",
    "map_component_to_features(pca, 0, azdias_trans.columns).head()"
   ]
  },
  {
   "cell_type": "code",
   "execution_count": 64,
   "metadata": {},
   "outputs": [
    {
     "data": {
      "text/html": [
       "<div>\n",
       "<style scoped>\n",
       "    .dataframe tbody tr th:only-of-type {\n",
       "        vertical-align: middle;\n",
       "    }\n",
       "\n",
       "    .dataframe tbody tr th {\n",
       "        vertical-align: top;\n",
       "    }\n",
       "\n",
       "    .dataframe thead th {\n",
       "        text-align: right;\n",
       "    }\n",
       "</style>\n",
       "<table border=\"1\" class=\"dataframe\">\n",
       "  <thead>\n",
       "    <tr style=\"text-align: right;\">\n",
       "      <th></th>\n",
       "      <th>weight</th>\n",
       "    </tr>\n",
       "  </thead>\n",
       "  <tbody>\n",
       "    <tr>\n",
       "      <th>PLZ8_ANTG4</th>\n",
       "      <td>-0.12</td>\n",
       "    </tr>\n",
       "    <tr>\n",
       "      <th>KBA13_ANTG4</th>\n",
       "      <td>-0.12</td>\n",
       "    </tr>\n",
       "    <tr>\n",
       "      <th>KBA13_ANTG3</th>\n",
       "      <td>-0.13</td>\n",
       "    </tr>\n",
       "    <tr>\n",
       "      <th>PLZ8_ANTG3</th>\n",
       "      <td>-0.13</td>\n",
       "    </tr>\n",
       "    <tr>\n",
       "      <th>ANZ_HAUSHALTE_AKTIV</th>\n",
       "      <td>-0.13</td>\n",
       "    </tr>\n",
       "  </tbody>\n",
       "</table>\n",
       "</div>"
      ],
      "text/plain": [
       "                     weight\n",
       "PLZ8_ANTG4            -0.12\n",
       "KBA13_ANTG4           -0.12\n",
       "KBA13_ANTG3           -0.13\n",
       "PLZ8_ANTG3            -0.13\n",
       "ANZ_HAUSHALTE_AKTIV   -0.13"
      ]
     },
     "execution_count": 64,
     "metadata": {},
     "output_type": "execute_result"
    }
   ],
   "source": [
    "map_component_to_features(pca, 0, azdias_trans.columns).tail()"
   ]
  },
  {
   "cell_type": "markdown",
   "metadata": {},
   "source": [
    "Component 1 is mainly determined by the mobility and social status of the person."
   ]
  },
  {
   "cell_type": "code",
   "execution_count": 161,
   "metadata": {},
   "outputs": [
    {
     "name": "stdout",
     "output_type": "stream",
     "text": [
      "Component 2 explains 5.3% of variance and is determined by: \n"
     ]
    },
    {
     "data": {
      "text/html": [
       "<div>\n",
       "<style scoped>\n",
       "    .dataframe tbody tr th:only-of-type {\n",
       "        vertical-align: middle;\n",
       "    }\n",
       "\n",
       "    .dataframe tbody tr th {\n",
       "        vertical-align: top;\n",
       "    }\n",
       "\n",
       "    .dataframe thead th {\n",
       "        text-align: right;\n",
       "    }\n",
       "</style>\n",
       "<table border=\"1\" class=\"dataframe\">\n",
       "  <thead>\n",
       "    <tr style=\"text-align: right;\">\n",
       "      <th></th>\n",
       "      <th>weight</th>\n",
       "    </tr>\n",
       "  </thead>\n",
       "  <tbody>\n",
       "    <tr>\n",
       "      <th>ONLINE_AFFINITAET</th>\n",
       "      <td>0.15</td>\n",
       "    </tr>\n",
       "    <tr>\n",
       "      <th>PRAEGENDE_JUGENDJAHRE</th>\n",
       "      <td>0.15</td>\n",
       "    </tr>\n",
       "    <tr>\n",
       "      <th>D19_GESAMT_ANZ_24</th>\n",
       "      <td>0.14</td>\n",
       "    </tr>\n",
       "    <tr>\n",
       "      <th>CJT_TYP_2</th>\n",
       "      <td>0.14</td>\n",
       "    </tr>\n",
       "    <tr>\n",
       "      <th>FINANZ_SPARER</th>\n",
       "      <td>0.14</td>\n",
       "    </tr>\n",
       "  </tbody>\n",
       "</table>\n",
       "</div>"
      ],
      "text/plain": [
       "                       weight\n",
       "ONLINE_AFFINITAET        0.15\n",
       "PRAEGENDE_JUGENDJAHRE    0.15\n",
       "D19_GESAMT_ANZ_24        0.14\n",
       "CJT_TYP_2                0.14\n",
       "FINANZ_SPARER            0.14"
      ]
     },
     "execution_count": 161,
     "metadata": {},
     "output_type": "execute_result"
    }
   ],
   "source": [
    "print(\"Component 2 explains {:.1%} of variance and is determined by: \".format(top_three_pca[1]))\n",
    "map_component_to_features(pca, 1, azdias_trans.columns).head()"
   ]
  },
  {
   "cell_type": "code",
   "execution_count": 162,
   "metadata": {},
   "outputs": [
    {
     "data": {
      "text/html": [
       "<div>\n",
       "<style scoped>\n",
       "    .dataframe tbody tr th:only-of-type {\n",
       "        vertical-align: middle;\n",
       "    }\n",
       "\n",
       "    .dataframe tbody tr th {\n",
       "        vertical-align: top;\n",
       "    }\n",
       "\n",
       "    .dataframe thead th {\n",
       "        text-align: right;\n",
       "    }\n",
       "</style>\n",
       "<table border=\"1\" class=\"dataframe\">\n",
       "  <thead>\n",
       "    <tr style=\"text-align: right;\">\n",
       "      <th></th>\n",
       "      <th>weight</th>\n",
       "    </tr>\n",
       "  </thead>\n",
       "  <tbody>\n",
       "    <tr>\n",
       "      <th>D19_GESAMT_DATUM</th>\n",
       "      <td>-0.13</td>\n",
       "    </tr>\n",
       "    <tr>\n",
       "      <th>FINANZ_VORSORGER</th>\n",
       "      <td>-0.13</td>\n",
       "    </tr>\n",
       "    <tr>\n",
       "      <th>CJT_TYP_5</th>\n",
       "      <td>-0.13</td>\n",
       "    </tr>\n",
       "    <tr>\n",
       "      <th>D19_VERSAND_ONLINE_DATUM</th>\n",
       "      <td>-0.13</td>\n",
       "    </tr>\n",
       "    <tr>\n",
       "      <th>D19_GESAMT_ONLINE_DATUM</th>\n",
       "      <td>-0.14</td>\n",
       "    </tr>\n",
       "  </tbody>\n",
       "</table>\n",
       "</div>"
      ],
      "text/plain": [
       "                          weight\n",
       "D19_GESAMT_DATUM           -0.13\n",
       "FINANZ_VORSORGER           -0.13\n",
       "CJT_TYP_5                  -0.13\n",
       "D19_VERSAND_ONLINE_DATUM   -0.13\n",
       "D19_GESAMT_ONLINE_DATUM    -0.14"
      ]
     },
     "execution_count": 162,
     "metadata": {},
     "output_type": "execute_result"
    }
   ],
   "source": [
    "map_component_to_features(pca, 1, azdias_trans.columns).tail()"
   ]
  },
  {
   "cell_type": "markdown",
   "metadata": {},
   "source": [
    "Component 2 is determined by online affinity, a dominating movement in the person's youth, and the person's financial behaviour."
   ]
  },
  {
   "cell_type": "code",
   "execution_count": 163,
   "metadata": {
    "scrolled": true
   },
   "outputs": [
    {
     "name": "stdout",
     "output_type": "stream",
     "text": [
      "Component 3 explains 5.1% of variance and is determined by: \n"
     ]
    },
    {
     "data": {
      "text/html": [
       "<div>\n",
       "<style scoped>\n",
       "    .dataframe tbody tr th:only-of-type {\n",
       "        vertical-align: middle;\n",
       "    }\n",
       "\n",
       "    .dataframe tbody tr th {\n",
       "        vertical-align: top;\n",
       "    }\n",
       "\n",
       "    .dataframe thead th {\n",
       "        text-align: right;\n",
       "    }\n",
       "</style>\n",
       "<table border=\"1\" class=\"dataframe\">\n",
       "  <thead>\n",
       "    <tr style=\"text-align: right;\">\n",
       "      <th></th>\n",
       "      <th>weight</th>\n",
       "    </tr>\n",
       "  </thead>\n",
       "  <tbody>\n",
       "    <tr>\n",
       "      <th>KBA13_HERST_BMW_BENZ</th>\n",
       "      <td>0.18</td>\n",
       "    </tr>\n",
       "    <tr>\n",
       "      <th>KBA13_SEG_OBEREMITTELKLASSE</th>\n",
       "      <td>0.15</td>\n",
       "    </tr>\n",
       "    <tr>\n",
       "      <th>KBA13_MERCEDES</th>\n",
       "      <td>0.15</td>\n",
       "    </tr>\n",
       "    <tr>\n",
       "      <th>KBA13_BMW</th>\n",
       "      <td>0.15</td>\n",
       "    </tr>\n",
       "    <tr>\n",
       "      <th>KBA13_SITZE_4</th>\n",
       "      <td>0.14</td>\n",
       "    </tr>\n",
       "  </tbody>\n",
       "</table>\n",
       "</div>"
      ],
      "text/plain": [
       "                             weight\n",
       "KBA13_HERST_BMW_BENZ           0.18\n",
       "KBA13_SEG_OBEREMITTELKLASSE    0.15\n",
       "KBA13_MERCEDES                 0.15\n",
       "KBA13_BMW                      0.15\n",
       "KBA13_SITZE_4                  0.14"
      ]
     },
     "execution_count": 163,
     "metadata": {},
     "output_type": "execute_result"
    }
   ],
   "source": [
    "print(\"Component 3 explains {:.1%} of variance and is determined by: \".format(top_three_pca[2]))\n",
    "map_component_to_features(pca, 2, azdias_trans.columns).head()"
   ]
  },
  {
   "cell_type": "code",
   "execution_count": 164,
   "metadata": {},
   "outputs": [
    {
     "data": {
      "text/html": [
       "<div>\n",
       "<style scoped>\n",
       "    .dataframe tbody tr th:only-of-type {\n",
       "        vertical-align: middle;\n",
       "    }\n",
       "\n",
       "    .dataframe tbody tr th {\n",
       "        vertical-align: top;\n",
       "    }\n",
       "\n",
       "    .dataframe thead th {\n",
       "        text-align: right;\n",
       "    }\n",
       "</style>\n",
       "<table border=\"1\" class=\"dataframe\">\n",
       "  <thead>\n",
       "    <tr style=\"text-align: right;\">\n",
       "      <th></th>\n",
       "      <th>weight</th>\n",
       "    </tr>\n",
       "  </thead>\n",
       "  <tbody>\n",
       "    <tr>\n",
       "      <th>KBA13_HALTER_25</th>\n",
       "      <td>-0.12</td>\n",
       "    </tr>\n",
       "    <tr>\n",
       "      <th>KBA13_KMH_180</th>\n",
       "      <td>-0.12</td>\n",
       "    </tr>\n",
       "    <tr>\n",
       "      <th>KBA13_KMH_140_210</th>\n",
       "      <td>-0.13</td>\n",
       "    </tr>\n",
       "    <tr>\n",
       "      <th>KBA13_SEG_KLEINWAGEN</th>\n",
       "      <td>-0.13</td>\n",
       "    </tr>\n",
       "    <tr>\n",
       "      <th>KBA13_SITZE_5</th>\n",
       "      <td>-0.15</td>\n",
       "    </tr>\n",
       "  </tbody>\n",
       "</table>\n",
       "</div>"
      ],
      "text/plain": [
       "                      weight\n",
       "KBA13_HALTER_25        -0.12\n",
       "KBA13_KMH_180          -0.12\n",
       "KBA13_KMH_140_210      -0.13\n",
       "KBA13_SEG_KLEINWAGEN   -0.13\n",
       "KBA13_SITZE_5          -0.15"
      ]
     },
     "execution_count": 164,
     "metadata": {},
     "output_type": "execute_result"
    }
   ],
   "source": [
    "map_component_to_features(pca, 2, azdias_trans.columns).tail()"
   ]
  },
  {
   "cell_type": "markdown",
   "metadata": {},
   "source": [
    "Component 3 is determined by the car a person owns."
   ]
  },
  {
   "cell_type": "markdown",
   "metadata": {},
   "source": [
    "### K-means Clustering"
   ]
  },
  {
   "cell_type": "markdown",
   "metadata": {},
   "source": [
    "The people in the general population dataset can be clustered by applying K-means clustering. Applying k-Means++ algorithm increases the efficiency. The final number of clusters is determined by using the elbow method."
   ]
  },
  {
   "cell_type": "code",
   "execution_count": 65,
   "metadata": {},
   "outputs": [],
   "source": [
    "sse = []\n",
    "list_k = list(range(1, 31))\n",
    "\n",
    "for k in list_k:\n",
    "    km = KMeans(n_clusters=k, init='k-means++')\n",
    "    km.fit(azdias_reduced.sample(20000))\n",
    "    sse.append(km.inertia_)"
   ]
  },
  {
   "cell_type": "code",
   "execution_count": 83,
   "metadata": {},
   "outputs": [
    {
     "data": {
      "image/png": "[encoded data removed]",
      "text/plain": [
       "<Figure size 1152x432 with 1 Axes>"
      ]
     },
     "metadata": {
      "needs_background": "light"
     },
     "output_type": "display_data"
    }
   ],
   "source": [
    "# Plot sse against k\n",
    "plt.figure(figsize=(16, 6))\n",
    "plt.plot(list_k, sse, '-o')\n",
    "plt.title('k-means Clustering Elbow Plot')\n",
    "plt.xlabel(\"Number of clusters k\")\n",
    "plt.ylabel(\"Sum of squared distance\")\n",
    "plt.xticks(list(range(1,31)))\n",
    "plt.savefig('elbow_plot.png', dpi=500);"
   ]
  },
  {
   "cell_type": "markdown",
   "metadata": {},
   "source": [
    "There is no clear elbow in the plot. The inertia or sum of squared distances drops significantly until around 6 clusters and then basically flattens out with a few further drops at 14, 20, 23, ... clusters. At 13, inertia increases a bit so 12 clusters are chosen as final number."
   ]
  },
  {
   "cell_type": "markdown",
   "metadata": {},
   "source": [
    "### Transform, reduce and cluster cleaned customers dataset"
   ]
  },
  {
   "cell_type": "code",
   "execution_count": 67,
   "metadata": {},
   "outputs": [],
   "source": [
    "# Set PCA and KMeans parameters\n",
    "pca_components = 220\n",
    "kmeans_clusters = 12"
   ]
  },
  {
   "cell_type": "code",
   "execution_count": 68,
   "metadata": {},
   "outputs": [],
   "source": [
    "# Create cluster pipeline\n",
    "cluster_pipeline = Pipeline([\n",
    "    ('transform', column_transformer),\n",
    "    ('reduce', PCA(n_components = pca_components)),\n",
    "    ('cluster', KMeans(n_clusters = kmeans_clusters, init = 'k-means++'))\n",
    "])"
   ]
  },
  {
   "cell_type": "code",
   "execution_count": 69,
   "metadata": {},
   "outputs": [],
   "source": [
    "# Fit cluster pipeline and create clustered general population dataframe\n",
    "cluster_pipeline.fit(azdias_clean)\n",
    "azdias_clustered = pd.DataFrame(cluster_pipeline.predict(azdias_clean), columns = ['Cluster'])"
   ]
  },
  {
   "cell_type": "code",
   "execution_count": 70,
   "metadata": {},
   "outputs": [],
   "source": [
    "# Create clustered customers dataframe\n",
    "customers_clustered = pd.DataFrame(cluster_pipeline.predict(customers_clean), columns = ['Cluster'])"
   ]
  },
  {
   "cell_type": "code",
   "execution_count": 71,
   "metadata": {},
   "outputs": [],
   "source": [
    "azdias_clustered.to_pickle('azdias_clustered')\n",
    "customers_clustered.to_pickle('customers_clustered')\n",
    "#azdias_clustered = pd.read_pickle('azdias_clustered')\n",
    "#customers_clustered = pd.read_pickle('customers_clustered')"
   ]
  },
  {
   "cell_type": "code",
   "execution_count": 72,
   "metadata": {},
   "outputs": [],
   "source": [
    "# Get cluster sizes in each dataset\n",
    "population_clusters = azdias_clustered['Cluster'].value_counts().sort_index()\n",
    "customer_clusters = customers_clustered['Cluster'].value_counts().sort_index()"
   ]
  },
  {
   "cell_type": "code",
   "execution_count": 73,
   "metadata": {},
   "outputs": [],
   "source": [
    "# Concat both dataframes to one\n",
    "clusters = pd.concat([population_clusters, customer_clusters], axis=1).reset_index()\n",
    "clusters.columns = ['cluster', 'population_count', 'customers_count']\n",
    "clusters['cluster']+=1"
   ]
  },
  {
   "cell_type": "code",
   "execution_count": 74,
   "metadata": {},
   "outputs": [],
   "source": [
    "# Calculate share of each cluster\n",
    "clusters['population_share'] = clusters['population_count']/clusters['population_count'].sum()*100\n",
    "clusters['customers_share'] = clusters['customers_count']/clusters['customers_count'].sum()*100\n",
    "clusters['diff_share'] = clusters['customers_share'] - clusters['population_share']"
   ]
  },
  {
   "cell_type": "code",
   "execution_count": 85,
   "metadata": {},
   "outputs": [
    {
     "data": {
      "image/png": "[encoded data removed]",
      "text/plain": [
       "<Figure size 1152x432 with 1 Axes>"
      ]
     },
     "metadata": {
      "needs_background": "light"
     },
     "output_type": "display_data"
    }
   ],
   "source": [
    "# Plot clusters \n",
    "fig, ax = plt.subplots(figsize=(16,6))\n",
    "\n",
    "ind = np.arange(kmeans_clusters)    # the x locations for the groups\n",
    "width = 0.35         # the width of the bars\n",
    "\n",
    "p1 = ax.bar(ind, clusters['population_share'], width, bottom=0)\n",
    "p2 = ax.bar(ind + width, clusters['customers_share'], width, bottom=0)\n",
    "\n",
    "ax.set_title('Share of clusters in Population vs Customers dataset')\n",
    "ax.set_ylabel('Share of total (%)')\n",
    "ax.set_xlabel('Cluster')\n",
    "\n",
    "ax.set_xticks(ind + width / 2)\n",
    "ax.set_xticklabels(clusters['cluster'])\n",
    "ax.legend((p1[0], p2[0]), ('Population', 'Customers'))\n",
    "ax.autoscale_view()\n",
    "\n",
    "plt.savefig('clusters_1.png', dpi=500);"
   ]
  },
  {
   "cell_type": "markdown",
   "metadata": {},
   "source": [
    "The plot shows how clusters are distributed across both datasets. Clusters are equally spread across the general population and show only small differences in size. This can be expected from dataset that represents the general population very well.\n",
    "\n",
    "In contrast, the customers dataset exhibits a large imbalance across clusters. Cluster 9 and 10 stand out specifically: More than 50% of customers are mapped to these two clusters. The remaining share is distributed across clusters 5 and 12 while all other clusters only contain a small share of customers.  "
   ]
  },
  {
   "cell_type": "code",
   "execution_count": 87,
   "metadata": {},
   "outputs": [
    {
     "data": {
      "image/png": "[encoded data removed]",
      "text/plain": [
       "<Figure size 1152x432 with 1 Axes>"
      ]
     },
     "metadata": {
      "needs_background": "light"
     },
     "output_type": "display_data"
    }
   ],
   "source": [
    "# Plot cluster differences\n",
    "fig, ax = plt.subplots(figsize=(16,6))\n",
    "\n",
    "ind = np.arange(kmeans_clusters)    # the x locations for the groups\n",
    "width = 0.35         # the width of the bars\n",
    "\n",
    "bar_colors = ('grey','red','grey','grey','grey','grey','grey','red','green','green','grey','grey')\n",
    "\n",
    "p1 = ax.bar(ind, clusters['diff_share'], width, color = bar_colors)\n",
    "\n",
    "ax.set_title('Overrepresentation (green) and Underrepresentation (red) of clusters in Customers dataset vs Population')\n",
    "ax.set_ylabel('Difference in share (%)')\n",
    "ax.set_xlabel('Cluster')\n",
    "\n",
    "ax.axhline(linewidth=.5, color='black')\n",
    "\n",
    "ax.set_xticks(ind)\n",
    "ax.set_xticklabels(clusters['cluster'])\n",
    "\n",
    "plt.savefig('clusters_2.png', dpi=500);"
   ]
  },
  {
   "cell_type": "markdown",
   "metadata": {},
   "source": [
    "Clusters 9 and 10 are significantly overrepresented in the Customers dataset. These should be the focus of a marketing campaign for the firm. On the other hand, clusters 2 and 8 show the largest underrepresentation compared to the general population and are outside of the focus group. "
   ]
  },
  {
   "cell_type": "code",
   "execution_count": 88,
   "metadata": {},
   "outputs": [],
   "source": [
    "cluster_centers_df = get_clusters_attributes(cluster_pipeline, numerical_cols, skewed_cols, column_names)"
   ]
  },
  {
   "cell_type": "code",
   "execution_count": 89,
   "metadata": {},
   "outputs": [],
   "source": [
    "comparison_df = cluster_centers_df.T[[8,9,1,7]]"
   ]
  },
  {
   "cell_type": "code",
   "execution_count": 90,
   "metadata": {},
   "outputs": [],
   "source": [
    "comparison_df.columns=['interested_cluster_9','interested_cluster_10','not_interested_cluster_2','not_interested_cluster_8']"
   ]
  },
  {
   "cell_type": "code",
   "execution_count": 92,
   "metadata": {
    "scrolled": false
   },
   "outputs": [
    {
     "data": {
      "text/html": [
       "<div>\n",
       "<style scoped>\n",
       "    .dataframe tbody tr th:only-of-type {\n",
       "        vertical-align: middle;\n",
       "    }\n",
       "\n",
       "    .dataframe tbody tr th {\n",
       "        vertical-align: top;\n",
       "    }\n",
       "\n",
       "    .dataframe thead th {\n",
       "        text-align: right;\n",
       "    }\n",
       "</style>\n",
       "<table border=\"1\" class=\"dataframe\">\n",
       "  <thead>\n",
       "    <tr style=\"text-align: right;\">\n",
       "      <th></th>\n",
       "      <th>interested_cluster_9</th>\n",
       "      <th>interested_cluster_10</th>\n",
       "      <th>not_interested_cluster_2</th>\n",
       "      <th>not_interested_cluster_8</th>\n",
       "    </tr>\n",
       "  </thead>\n",
       "  <tbody>\n",
       "    <tr>\n",
       "      <th>LP_LEBENSPHASE_GROB</th>\n",
       "      <td>8.004706</td>\n",
       "      <td>4.718162</td>\n",
       "      <td>2.525255</td>\n",
       "      <td>3.350580</td>\n",
       "    </tr>\n",
       "    <tr>\n",
       "      <th>EINGEZOGENAM_HH_JAHR</th>\n",
       "      <td>1999.979827</td>\n",
       "      <td>2000.728004</td>\n",
       "      <td>2005.356248</td>\n",
       "      <td>2005.628696</td>\n",
       "    </tr>\n",
       "    <tr>\n",
       "      <th>LP_LEBENSPHASE_FEIN</th>\n",
       "      <td>27.026184</td>\n",
       "      <td>16.490010</td>\n",
       "      <td>7.400173</td>\n",
       "      <td>10.764894</td>\n",
       "    </tr>\n",
       "    <tr>\n",
       "      <th>ANZ_STATISTISCHE_HAUSHALTE</th>\n",
       "      <td>2.360956</td>\n",
       "      <td>2.137019</td>\n",
       "      <td>12.066082</td>\n",
       "      <td>4.434107</td>\n",
       "    </tr>\n",
       "    <tr>\n",
       "      <th>D19_GESAMT_ONLINE_QUOTE_12</th>\n",
       "      <td>5.546279</td>\n",
       "      <td>0.627578</td>\n",
       "      <td>0.265035</td>\n",
       "      <td>0.747452</td>\n",
       "    </tr>\n",
       "    <tr>\n",
       "      <th>VK_ZG11</th>\n",
       "      <td>3.126616</td>\n",
       "      <td>5.810008</td>\n",
       "      <td>8.031530</td>\n",
       "      <td>7.756917</td>\n",
       "    </tr>\n",
       "    <tr>\n",
       "      <th>D19_KONSUMTYP_MAX</th>\n",
       "      <td>2.464837</td>\n",
       "      <td>6.535185</td>\n",
       "      <td>7.834241</td>\n",
       "      <td>7.223877</td>\n",
       "    </tr>\n",
       "    <tr>\n",
       "      <th>AKT_DAT_KL</th>\n",
       "      <td>2.063873</td>\n",
       "      <td>3.448639</td>\n",
       "      <td>6.885743</td>\n",
       "      <td>6.474712</td>\n",
       "    </tr>\n",
       "    <tr>\n",
       "      <th>D19_GESAMT_ONLINE_DATUM</th>\n",
       "      <td>5.139734</td>\n",
       "      <td>9.062734</td>\n",
       "      <td>9.458925</td>\n",
       "      <td>9.040411</td>\n",
       "    </tr>\n",
       "    <tr>\n",
       "      <th>D19_GESAMT_DATUM</th>\n",
       "      <td>4.082363</td>\n",
       "      <td>8.190865</td>\n",
       "      <td>9.078505</td>\n",
       "      <td>8.562975</td>\n",
       "    </tr>\n",
       "    <tr>\n",
       "      <th>ALTERSKATEGORIE_FEIN</th>\n",
       "      <td>12.234505</td>\n",
       "      <td>10.555965</td>\n",
       "      <td>15.770613</td>\n",
       "      <td>16.068201</td>\n",
       "    </tr>\n",
       "    <tr>\n",
       "      <th>LP_STATUS_FEIN</th>\n",
       "      <td>8.134305</td>\n",
       "      <td>7.838847</td>\n",
       "      <td>1.992815</td>\n",
       "      <td>4.506373</td>\n",
       "    </tr>\n",
       "    <tr>\n",
       "      <th>D19_VERSAND_ONLINE_QUOTE_12</th>\n",
       "      <td>5.360404</td>\n",
       "      <td>0.386713</td>\n",
       "      <td>0.182866</td>\n",
       "      <td>0.593306</td>\n",
       "    </tr>\n",
       "    <tr>\n",
       "      <th>D19_VERSAND_ONLINE_DATUM</th>\n",
       "      <td>5.405279</td>\n",
       "      <td>9.339377</td>\n",
       "      <td>9.607193</td>\n",
       "      <td>9.245365</td>\n",
       "    </tr>\n",
       "    <tr>\n",
       "      <th>VK_DISTANZ</th>\n",
       "      <td>4.156976</td>\n",
       "      <td>8.132599</td>\n",
       "      <td>9.877294</td>\n",
       "      <td>9.341777</td>\n",
       "    </tr>\n",
       "    <tr>\n",
       "      <th>GEMEINDETYP</th>\n",
       "      <td>22.619327</td>\n",
       "      <td>32.285191</td>\n",
       "      <td>17.430234</td>\n",
       "      <td>29.704421</td>\n",
       "    </tr>\n",
       "    <tr>\n",
       "      <th>PRAEGENDE_JUGENDJAHRE</th>\n",
       "      <td>7.728952</td>\n",
       "      <td>5.909049</td>\n",
       "      <td>11.944965</td>\n",
       "      <td>12.310745</td>\n",
       "    </tr>\n",
       "    <tr>\n",
       "      <th>D19_VERSAND_DATUM</th>\n",
       "      <td>4.818272</td>\n",
       "      <td>9.015984</td>\n",
       "      <td>9.523110</td>\n",
       "      <td>9.136726</td>\n",
       "    </tr>\n",
       "  </tbody>\n",
       "</table>\n",
       "</div>"
      ],
      "text/plain": [
       "                             interested_cluster_9  interested_cluster_10  \\\n",
       "LP_LEBENSPHASE_GROB                      8.004706               4.718162   \n",
       "EINGEZOGENAM_HH_JAHR                  1999.979827            2000.728004   \n",
       "LP_LEBENSPHASE_FEIN                     27.026184              16.490010   \n",
       "ANZ_STATISTISCHE_HAUSHALTE               2.360956               2.137019   \n",
       "D19_GESAMT_ONLINE_QUOTE_12               5.546279               0.627578   \n",
       "VK_ZG11                                  3.126616               5.810008   \n",
       "D19_KONSUMTYP_MAX                        2.464837               6.535185   \n",
       "AKT_DAT_KL                               2.063873               3.448639   \n",
       "D19_GESAMT_ONLINE_DATUM                  5.139734               9.062734   \n",
       "D19_GESAMT_DATUM                         4.082363               8.190865   \n",
       "ALTERSKATEGORIE_FEIN                    12.234505              10.555965   \n",
       "LP_STATUS_FEIN                           8.134305               7.838847   \n",
       "D19_VERSAND_ONLINE_QUOTE_12              5.360404               0.386713   \n",
       "D19_VERSAND_ONLINE_DATUM                 5.405279               9.339377   \n",
       "VK_DISTANZ                               4.156976               8.132599   \n",
       "GEMEINDETYP                             22.619327              32.285191   \n",
       "PRAEGENDE_JUGENDJAHRE                    7.728952               5.909049   \n",
       "D19_VERSAND_DATUM                        4.818272               9.015984   \n",
       "\n",
       "                             not_interested_cluster_2  \\\n",
       "LP_LEBENSPHASE_GROB                          2.525255   \n",
       "EINGEZOGENAM_HH_JAHR                      2005.356248   \n",
       "LP_LEBENSPHASE_FEIN                          7.400173   \n",
       "ANZ_STATISTISCHE_HAUSHALTE                  12.066082   \n",
       "D19_GESAMT_ONLINE_QUOTE_12                   0.265035   \n",
       "VK_ZG11                                      8.031530   \n",
       "D19_KONSUMTYP_MAX                            7.834241   \n",
       "AKT_DAT_KL                                   6.885743   \n",
       "D19_GESAMT_ONLINE_DATUM                      9.458925   \n",
       "D19_GESAMT_DATUM                             9.078505   \n",
       "ALTERSKATEGORIE_FEIN                        15.770613   \n",
       "LP_STATUS_FEIN                               1.992815   \n",
       "D19_VERSAND_ONLINE_QUOTE_12                  0.182866   \n",
       "D19_VERSAND_ONLINE_DATUM                     9.607193   \n",
       "VK_DISTANZ                                   9.877294   \n",
       "GEMEINDETYP                                 17.430234   \n",
       "PRAEGENDE_JUGENDJAHRE                       11.944965   \n",
       "D19_VERSAND_DATUM                            9.523110   \n",
       "\n",
       "                             not_interested_cluster_8  \n",
       "LP_LEBENSPHASE_GROB                          3.350580  \n",
       "EINGEZOGENAM_HH_JAHR                      2005.628696  \n",
       "LP_LEBENSPHASE_FEIN                         10.764894  \n",
       "ANZ_STATISTISCHE_HAUSHALTE                   4.434107  \n",
       "D19_GESAMT_ONLINE_QUOTE_12                   0.747452  \n",
       "VK_ZG11                                      7.756917  \n",
       "D19_KONSUMTYP_MAX                            7.223877  \n",
       "AKT_DAT_KL                                   6.474712  \n",
       "D19_GESAMT_ONLINE_DATUM                      9.040411  \n",
       "D19_GESAMT_DATUM                             8.562975  \n",
       "ALTERSKATEGORIE_FEIN                        16.068201  \n",
       "LP_STATUS_FEIN                               4.506373  \n",
       "D19_VERSAND_ONLINE_QUOTE_12                  0.593306  \n",
       "D19_VERSAND_ONLINE_DATUM                     9.245365  \n",
       "VK_DISTANZ                                   9.341777  \n",
       "GEMEINDETYP                                 29.704421  \n",
       "PRAEGENDE_JUGENDJAHRE                       12.310745  \n",
       "D19_VERSAND_DATUM                            9.136726  "
      ]
     },
     "execution_count": 92,
     "metadata": {},
     "output_type": "execute_result"
    }
   ],
   "source": [
    "comparison_df[comparison_df.std(axis=1)>2]"
   ]
  },
  {
   "cell_type": "markdown",
   "metadata": {},
   "source": [
    "Looking at attributes with the highest differences among the 4 focus clusters allows to define specific characteristics of the groups. \n",
    "\n",
    "Interested clusters:\n",
    "* Are high-income couples or families.\n",
    "* Live in more densily populated, probably more exclusive areas.\n",
    "* Are used to buying things online.\n",
    "* Are house owners and/or hold an academic title.\n",
    "* Are 50-60 years old, grew up in the 60s/70s, and likely were part of the politically active generation 68/student protesters or Berlin wall opponents.\n",
    "\n",
    "In contrast, not-interested clusters:\n",
    "* Tend to be low- to average-income singles of advanced to higher age.\n",
    "* Live in more crowded but rural areas.\n",
    "* Rarely buy or order things online.\n",
    "* Grew up in Eastern Germany in the 80s and likely participated in the communist party youth organisation."
   ]
  },
  {
   "cell_type": "code",
   "execution_count": 146,
   "metadata": {},
   "outputs": [
    {
     "data": {
      "text/plain": [
       "interested_cluster_9        1.499231\n",
       "interested_cluster_10       0.711209\n",
       "not_interested_cluster_2    0.075782\n",
       "not_interested_cluster_8    0.162990\n",
       "Name: D19_SOZIALES, dtype: float64"
      ]
     },
     "execution_count": 146,
     "metadata": {},
     "output_type": "execute_result"
    }
   ],
   "source": [
    "comparison_df.loc['D19_SOZIALES']"
   ]
  },
  {
   "cell_type": "code",
   "execution_count": 82,
   "metadata": {},
   "outputs": [],
   "source": [
    "comparison_df.to_pickle('comparison_df')\n",
    "#comparison_df = pd.read_pickle('comparison_df')"
   ]
  },
  {
   "cell_type": "markdown",
   "metadata": {},
   "source": [
    "## Part 2: Supervised Learning Model\n",
    "\n",
    "Now that you've found which parts of the population are more likely to be customers of the mail-order company, it's time to build a prediction model. Each of the rows in the \"MAILOUT\" data files represents an individual that was targeted for a mailout campaign. Ideally, we should be able to use the demographic information from each individual to decide whether or not it will be worth it to include that person in the campaign.\n",
    "\n",
    "The \"MAILOUT\" data has been split into two approximately equal parts, each with almost 43 000 data rows. In this part, you can verify your model with the \"TRAIN\" partition, which includes a column, \"RESPONSE\", that states whether or not a person became a customer of the company following the campaign. In the next part, you'll need to create predictions on the \"TEST\" partition, where the \"RESPONSE\" column has been withheld."
   ]
  },
  {
   "cell_type": "code",
   "execution_count": 93,
   "metadata": {},
   "outputs": [],
   "source": [
    "mailout_train = pd.read_csv('Udacity_MAILOUT_052018_TRAIN.csv', sep=';', low_memory=False)"
   ]
  },
  {
   "cell_type": "code",
   "execution_count": 94,
   "metadata": {},
   "outputs": [
    {
     "data": {
      "text/plain": [
       "(42962, 367)"
      ]
     },
     "execution_count": 94,
     "metadata": {},
     "output_type": "execute_result"
    }
   ],
   "source": [
    "mailout_train.shape"
   ]
  },
  {
   "cell_type": "code",
   "execution_count": 96,
   "metadata": {},
   "outputs": [
    {
     "name": "stdout",
     "output_type": "stream",
     "text": [
      "Old shape: (42962, 366)\n",
      "9327 rows and 15 columns dropped.\n",
      "New shape: (33635, 351) \n",
      "\n",
      "Datatypes:\n",
      "float64    260\n",
      "int64       90\n",
      "object       1\n",
      "dtype: int64\n"
     ]
    }
   ],
   "source": [
    "mailout_train_clean = pd.concat([clean_dataframe(mailout_train.drop(['RESPONSE'], axis=1), drop_cols), mailout_train['RESPONSE']], axis=1)"
   ]
  },
  {
   "cell_type": "code",
   "execution_count": 97,
   "metadata": {},
   "outputs": [],
   "source": [
    "X = mailout_train_clean.drop(['RESPONSE'], axis=1)\n",
    "y = mailout_train_clean['RESPONSE']"
   ]
  },
  {
   "cell_type": "code",
   "execution_count": 98,
   "metadata": {},
   "outputs": [],
   "source": [
    "models = {'RandomForestClassifier': RandomForestClassifier(), \n",
    "          'AdaBoostClassifier': AdaBoostClassifier(), \n",
    "          'GradientBoostingClassifier': GradientBoostingClassifier(),\n",
    "          'XGBClassifier': xgb.XGBClassifier()\n",
    "         }"
   ]
  },
  {
   "cell_type": "code",
   "execution_count": 46,
   "metadata": {},
   "outputs": [
    {
     "name": "stdout",
     "output_type": "stream",
     "text": [
      "RandomForestClassifier\n",
      "Roc_auc train score = 0.95\n",
      "Roc_auc validation score = 0.58\n",
      "\n"
     ]
    },
    {
     "data": {
      "image/png": "[encoded data removed]",
      "text/plain": [
       "<Figure size 432x288 with 1 Axes>"
      ]
     },
     "metadata": {
      "needs_background": "light"
     },
     "output_type": "display_data"
    },
    {
     "name": "stdout",
     "output_type": "stream",
     "text": [
      "AdaBoostClassifier\n",
      "Roc_auc train score = 0.83\n",
      "Roc_auc validation score = 0.73\n",
      "\n"
     ]
    },
    {
     "data": {
      "image/png": "[encoded data removed]",
      "text/plain": [
       "<Figure size 432x288 with 1 Axes>"
      ]
     },
     "metadata": {
      "needs_background": "light"
     },
     "output_type": "display_data"
    },
    {
     "name": "stdout",
     "output_type": "stream",
     "text": [
      "GradientBoostingClassifier\n",
      "Roc_auc train score = 0.89\n",
      "Roc_auc validation score = 0.75\n",
      "\n"
     ]
    },
    {
     "data": {
      "image/png": "[encoded data removed]",
      "text/plain": [
       "<Figure size 432x288 with 1 Axes>"
      ]
     },
     "metadata": {
      "needs_background": "light"
     },
     "output_type": "display_data"
    },
    {
     "name": "stdout",
     "output_type": "stream",
     "text": [
      "XGBClassifier\n",
      "Roc_auc train score = 0.97\n",
      "Roc_auc validation score = 0.66\n",
      "\n"
     ]
    },
    {
     "data": {
      "image/png": "[encoded data removed]",
      "text/plain": [
       "<Figure size 432x288 with 1 Axes>"
      ]
     },
     "metadata": {
      "needs_background": "light"
     },
     "output_type": "display_data"
    }
   ],
   "source": [
    "for model_key in models.keys():\n",
    "    print(model_key)\n",
    "    ml_pipeline = Pipeline([\n",
    "        ('transform', column_transformer),\n",
    "        ('model', models[model_key])\n",
    "    ])\n",
    "    X, y = randomize(mailout_train_clean)\n",
    "    draw_learning_curves(X, y, ml_pipeline, 10)"
   ]
  },
  {
   "cell_type": "markdown",
   "metadata": {},
   "source": [
    "The **Random Forest Classifier** does not only show the lowest mean validation score but also a consisently high train score, implying high model bias. In other words, the model is strongly overfitted on the training data and provides a bad predictor for unseen data. The same can be summarized for the **XGBoost Classifier**.\n",
    "\n",
    "The **AdaBoost Classifier** and **Gradient Boosting Classifier** on the other hand show better performance. They demonstrate a decrease of model bias with increasing sample size. While AdaBoost curves already converged after ~80% of the sample is fed to the algorithm, learning curves for the Gradient Boosting Classifier keep converging with more data. In addition to that, Gradient Boosting provides the highest mean validation score, making it our choise of estimator for the forecasting model.\n",
    "\n",
    "Finally, the parameters for the Gradient Boosting Classifiers are hypertuned using grid-search on the following selection:"
   ]
  },
  {
   "cell_type": "code",
   "execution_count": 99,
   "metadata": {
    "scrolled": true
   },
   "outputs": [
    {
     "name": "stdout",
     "output_type": "stream",
     "text": [
      "Fitting 5 folds for each of 8 candidates, totalling 40 fits\n",
      "[Parallel(n_jobs=1)]: Using backend SequentialBackend with 1 concurrent workers.\n",
      "[CV] gbc__learning_rate=0.1, gbc__max_depth=3, gbc__min_samples_split=2, gbc__n_estimators=100 \n",
      "[CV]  gbc__learning_rate=0.1, gbc__max_depth=3, gbc__min_samples_split=2, gbc__n_estimators=100, score=0.718, total= 1.6min\n",
      "[Parallel(n_jobs=1)]: Done   1 out of   1 | elapsed:  1.6min remaining:    0.0s\n",
      "[CV] gbc__learning_rate=0.1, gbc__max_depth=3, gbc__min_samples_split=2, gbc__n_estimators=100 \n",
      "[CV]  gbc__learning_rate=0.1, gbc__max_depth=3, gbc__min_samples_split=2, gbc__n_estimators=100, score=0.745, total= 1.6min\n",
      "[Parallel(n_jobs=1)]: Done   2 out of   2 | elapsed:  3.3min remaining:    0.0s\n",
      "[CV] gbc__learning_rate=0.1, gbc__max_depth=3, gbc__min_samples_split=2, gbc__n_estimators=100 \n",
      "[CV]  gbc__learning_rate=0.1, gbc__max_depth=3, gbc__min_samples_split=2, gbc__n_estimators=100, score=0.793, total= 1.6min\n",
      "[Parallel(n_jobs=1)]: Done   3 out of   3 | elapsed:  4.9min remaining:    0.0s\n",
      "[CV] gbc__learning_rate=0.1, gbc__max_depth=3, gbc__min_samples_split=2, gbc__n_estimators=100 \n",
      "[CV]  gbc__learning_rate=0.1, gbc__max_depth=3, gbc__min_samples_split=2, gbc__n_estimators=100, score=0.735, total= 1.6min\n",
      "[Parallel(n_jobs=1)]: Done   4 out of   4 | elapsed:  6.5min remaining:    0.0s\n",
      "[CV] gbc__learning_rate=0.1, gbc__max_depth=3, gbc__min_samples_split=2, gbc__n_estimators=100 \n",
      "[CV]  gbc__learning_rate=0.1, gbc__max_depth=3, gbc__min_samples_split=2, gbc__n_estimators=100, score=0.760, total= 1.6min\n",
      "[Parallel(n_jobs=1)]: Done   5 out of   5 | elapsed:  8.1min remaining:    0.0s\n",
      "[CV] gbc__learning_rate=0.1, gbc__max_depth=3, gbc__min_samples_split=4, gbc__n_estimators=100 \n",
      "[CV]  gbc__learning_rate=0.1, gbc__max_depth=3, gbc__min_samples_split=4, gbc__n_estimators=100, score=0.727, total= 1.6min\n",
      "[Parallel(n_jobs=1)]: Done   6 out of   6 | elapsed:  9.8min remaining:    0.0s\n",
      "[CV] gbc__learning_rate=0.1, gbc__max_depth=3, gbc__min_samples_split=4, gbc__n_estimators=100 \n",
      "[CV]  gbc__learning_rate=0.1, gbc__max_depth=3, gbc__min_samples_split=4, gbc__n_estimators=100, score=0.746, total= 1.6min\n",
      "[Parallel(n_jobs=1)]: Done   7 out of   7 | elapsed: 11.4min remaining:    0.0s\n",
      "[CV] gbc__learning_rate=0.1, gbc__max_depth=3, gbc__min_samples_split=4, gbc__n_estimators=100 \n",
      "[CV]  gbc__learning_rate=0.1, gbc__max_depth=3, gbc__min_samples_split=4, gbc__n_estimators=100, score=0.791, total= 1.6min\n",
      "[Parallel(n_jobs=1)]: Done   8 out of   8 | elapsed: 13.0min remaining:    0.0s\n",
      "[CV] gbc__learning_rate=0.1, gbc__max_depth=3, gbc__min_samples_split=4, gbc__n_estimators=100 \n",
      "[CV]  gbc__learning_rate=0.1, gbc__max_depth=3, gbc__min_samples_split=4, gbc__n_estimators=100, score=0.739, total= 1.6min\n",
      "[Parallel(n_jobs=1)]: Done   9 out of   9 | elapsed: 14.6min remaining:    0.0s\n",
      "[CV] gbc__learning_rate=0.1, gbc__max_depth=3, gbc__min_samples_split=4, gbc__n_estimators=100 \n",
      "[CV]  gbc__learning_rate=0.1, gbc__max_depth=3, gbc__min_samples_split=4, gbc__n_estimators=100, score=0.763, total= 1.6min\n",
      "[Parallel(n_jobs=1)]: Done  10 out of  10 | elapsed: 16.2min remaining:    0.0s\n",
      "[CV] gbc__learning_rate=0.1, gbc__max_depth=5, gbc__min_samples_split=2, gbc__n_estimators=100 \n",
      "[CV]  gbc__learning_rate=0.1, gbc__max_depth=5, gbc__min_samples_split=2, gbc__n_estimators=100, score=0.699, total= 2.6min\n",
      "[Parallel(n_jobs=1)]: Done  11 out of  11 | elapsed: 18.8min remaining:    0.0s\n",
      "[CV] gbc__learning_rate=0.1, gbc__max_depth=5, gbc__min_samples_split=2, gbc__n_estimators=100 \n",
      "[CV]  gbc__learning_rate=0.1, gbc__max_depth=5, gbc__min_samples_split=2, gbc__n_estimators=100, score=0.722, total= 2.6min\n",
      "[Parallel(n_jobs=1)]: Done  12 out of  12 | elapsed: 21.4min remaining:    0.0s\n",
      "[CV] gbc__learning_rate=0.1, gbc__max_depth=5, gbc__min_samples_split=2, gbc__n_estimators=100 \n",
      "[CV]  gbc__learning_rate=0.1, gbc__max_depth=5, gbc__min_samples_split=2, gbc__n_estimators=100, score=0.762, total= 2.6min\n",
      "[Parallel(n_jobs=1)]: Done  13 out of  13 | elapsed: 24.0min remaining:    0.0s\n",
      "[CV] gbc__learning_rate=0.1, gbc__max_depth=5, gbc__min_samples_split=2, gbc__n_estimators=100 \n",
      "[CV]  gbc__learning_rate=0.1, gbc__max_depth=5, gbc__min_samples_split=2, gbc__n_estimators=100, score=0.730, total= 2.6min\n",
      "[Parallel(n_jobs=1)]: Done  14 out of  14 | elapsed: 26.6min remaining:    0.0s\n",
      "[CV] gbc__learning_rate=0.1, gbc__max_depth=5, gbc__min_samples_split=2, gbc__n_estimators=100 \n",
      "[CV]  gbc__learning_rate=0.1, gbc__max_depth=5, gbc__min_samples_split=2, gbc__n_estimators=100, score=0.746, total= 2.6min\n",
      "[Parallel(n_jobs=1)]: Done  15 out of  15 | elapsed: 29.1min remaining:    0.0s\n",
      "[CV] gbc__learning_rate=0.1, gbc__max_depth=5, gbc__min_samples_split=4, gbc__n_estimators=100 \n",
      "[CV]  gbc__learning_rate=0.1, gbc__max_depth=5, gbc__min_samples_split=4, gbc__n_estimators=100, score=0.694, total= 2.6min\n",
      "[Parallel(n_jobs=1)]: Done  16 out of  16 | elapsed: 31.7min remaining:    0.0s\n",
      "[CV] gbc__learning_rate=0.1, gbc__max_depth=5, gbc__min_samples_split=4, gbc__n_estimators=100 \n",
      "[CV]  gbc__learning_rate=0.1, gbc__max_depth=5, gbc__min_samples_split=4, gbc__n_estimators=100, score=0.707, total=42.0min\n",
      "[Parallel(n_jobs=1)]: Done  17 out of  17 | elapsed: 73.7min remaining:    0.0s\n",
      "[CV] gbc__learning_rate=0.1, gbc__max_depth=5, gbc__min_samples_split=4, gbc__n_estimators=100 \n",
      "[CV]  gbc__learning_rate=0.1, gbc__max_depth=5, gbc__min_samples_split=4, gbc__n_estimators=100, score=0.777, total= 2.7min\n",
      "[Parallel(n_jobs=1)]: Done  18 out of  18 | elapsed: 76.4min remaining:    0.0s\n",
      "[CV] gbc__learning_rate=0.1, gbc__max_depth=5, gbc__min_samples_split=4, gbc__n_estimators=100 \n",
      "[CV]  gbc__learning_rate=0.1, gbc__max_depth=5, gbc__min_samples_split=4, gbc__n_estimators=100, score=0.726, total= 2.7min\n",
      "[Parallel(n_jobs=1)]: Done  19 out of  19 | elapsed: 79.1min remaining:    0.0s\n",
      "[CV] gbc__learning_rate=0.1, gbc__max_depth=5, gbc__min_samples_split=4, gbc__n_estimators=100 \n",
      "[CV]  gbc__learning_rate=0.1, gbc__max_depth=5, gbc__min_samples_split=4, gbc__n_estimators=100, score=0.731, total= 2.6min\n",
      "[Parallel(n_jobs=1)]: Done  20 out of  20 | elapsed: 81.8min remaining:    0.0s\n",
      "[CV] gbc__learning_rate=0.2, gbc__max_depth=3, gbc__min_samples_split=2, gbc__n_estimators=100 \n",
      "[CV]  gbc__learning_rate=0.2, gbc__max_depth=3, gbc__min_samples_split=2, gbc__n_estimators=100, score=0.689, total= 1.7min\n",
      "[Parallel(n_jobs=1)]: Done  21 out of  21 | elapsed: 83.4min remaining:    0.0s\n",
      "[CV] gbc__learning_rate=0.2, gbc__max_depth=3, gbc__min_samples_split=2, gbc__n_estimators=100 \n",
      "[CV]  gbc__learning_rate=0.2, gbc__max_depth=3, gbc__min_samples_split=2, gbc__n_estimators=100, score=0.713, total= 1.7min\n",
      "[Parallel(n_jobs=1)]: Done  22 out of  22 | elapsed: 85.1min remaining:    0.0s\n",
      "[CV] gbc__learning_rate=0.2, gbc__max_depth=3, gbc__min_samples_split=2, gbc__n_estimators=100 \n",
      "[CV]  gbc__learning_rate=0.2, gbc__max_depth=3, gbc__min_samples_split=2, gbc__n_estimators=100, score=0.784, total= 1.6min\n",
      "[Parallel(n_jobs=1)]: Done  23 out of  23 | elapsed: 86.7min remaining:    0.0s\n",
      "[CV] gbc__learning_rate=0.2, gbc__max_depth=3, gbc__min_samples_split=2, gbc__n_estimators=100 \n",
      "[CV]  gbc__learning_rate=0.2, gbc__max_depth=3, gbc__min_samples_split=2, gbc__n_estimators=100, score=0.708, total= 1.7min\n",
      "[Parallel(n_jobs=1)]: Done  24 out of  24 | elapsed: 88.4min remaining:    0.0s\n",
      "[CV] gbc__learning_rate=0.2, gbc__max_depth=3, gbc__min_samples_split=2, gbc__n_estimators=100 \n",
      "[CV]  gbc__learning_rate=0.2, gbc__max_depth=3, gbc__min_samples_split=2, gbc__n_estimators=100, score=0.729, total= 1.7min\n",
      "[Parallel(n_jobs=1)]: Done  25 out of  25 | elapsed: 90.0min remaining:    0.0s\n",
      "[CV] gbc__learning_rate=0.2, gbc__max_depth=3, gbc__min_samples_split=4, gbc__n_estimators=100 \n",
      "[CV]  gbc__learning_rate=0.2, gbc__max_depth=3, gbc__min_samples_split=4, gbc__n_estimators=100, score=0.707, total= 1.6min\n",
      "[Parallel(n_jobs=1)]: Done  26 out of  26 | elapsed: 91.7min remaining:    0.0s\n",
      "[CV] gbc__learning_rate=0.2, gbc__max_depth=3, gbc__min_samples_split=4, gbc__n_estimators=100 \n",
      "[CV]  gbc__learning_rate=0.2, gbc__max_depth=3, gbc__min_samples_split=4, gbc__n_estimators=100, score=0.703, total= 1.6min\n",
      "[Parallel(n_jobs=1)]: Done  27 out of  27 | elapsed: 93.3min remaining:    0.0s\n",
      "[CV] gbc__learning_rate=0.2, gbc__max_depth=3, gbc__min_samples_split=4, gbc__n_estimators=100 \n"
     ]
    },
    {
     "name": "stdout",
     "output_type": "stream",
     "text": [
      "[CV]  gbc__learning_rate=0.2, gbc__max_depth=3, gbc__min_samples_split=4, gbc__n_estimators=100, score=0.763, total= 1.6min\n",
      "[Parallel(n_jobs=1)]: Done  28 out of  28 | elapsed: 95.0min remaining:    0.0s\n",
      "[CV] gbc__learning_rate=0.2, gbc__max_depth=3, gbc__min_samples_split=4, gbc__n_estimators=100 \n",
      "[CV]  gbc__learning_rate=0.2, gbc__max_depth=3, gbc__min_samples_split=4, gbc__n_estimators=100, score=0.719, total= 1.6min\n",
      "[Parallel(n_jobs=1)]: Done  29 out of  29 | elapsed: 96.6min remaining:    0.0s\n",
      "[CV] gbc__learning_rate=0.2, gbc__max_depth=3, gbc__min_samples_split=4, gbc__n_estimators=100 \n",
      "[CV]  gbc__learning_rate=0.2, gbc__max_depth=3, gbc__min_samples_split=4, gbc__n_estimators=100, score=0.705, total= 1.7min\n",
      "[Parallel(n_jobs=1)]: Done  30 out of  30 | elapsed: 98.3min remaining:    0.0s\n",
      "[CV] gbc__learning_rate=0.2, gbc__max_depth=5, gbc__min_samples_split=2, gbc__n_estimators=100 \n",
      "[CV]  gbc__learning_rate=0.2, gbc__max_depth=5, gbc__min_samples_split=2, gbc__n_estimators=100, score=0.671, total= 2.6min\n",
      "[Parallel(n_jobs=1)]: Done  31 out of  31 | elapsed: 100.9min remaining:    0.0s\n",
      "[CV] gbc__learning_rate=0.2, gbc__max_depth=5, gbc__min_samples_split=2, gbc__n_estimators=100 \n",
      "[CV]  gbc__learning_rate=0.2, gbc__max_depth=5, gbc__min_samples_split=2, gbc__n_estimators=100, score=0.652, total= 2.6min\n",
      "[Parallel(n_jobs=1)]: Done  32 out of  32 | elapsed: 103.6min remaining:    0.0s\n",
      "[CV] gbc__learning_rate=0.2, gbc__max_depth=5, gbc__min_samples_split=2, gbc__n_estimators=100 \n",
      "[CV]  gbc__learning_rate=0.2, gbc__max_depth=5, gbc__min_samples_split=2, gbc__n_estimators=100, score=0.688, total= 2.6min\n",
      "[Parallel(n_jobs=1)]: Done  33 out of  33 | elapsed: 106.2min remaining:    0.0s\n",
      "[CV] gbc__learning_rate=0.2, gbc__max_depth=5, gbc__min_samples_split=2, gbc__n_estimators=100 \n",
      "[CV]  gbc__learning_rate=0.2, gbc__max_depth=5, gbc__min_samples_split=2, gbc__n_estimators=100, score=0.692, total= 2.6min\n",
      "[Parallel(n_jobs=1)]: Done  34 out of  34 | elapsed: 108.8min remaining:    0.0s\n",
      "[CV] gbc__learning_rate=0.2, gbc__max_depth=5, gbc__min_samples_split=2, gbc__n_estimators=100 \n",
      "[CV]  gbc__learning_rate=0.2, gbc__max_depth=5, gbc__min_samples_split=2, gbc__n_estimators=100, score=0.688, total= 2.6min\n",
      "[Parallel(n_jobs=1)]: Done  35 out of  35 | elapsed: 111.5min remaining:    0.0s\n",
      "[CV] gbc__learning_rate=0.2, gbc__max_depth=5, gbc__min_samples_split=4, gbc__n_estimators=100 \n",
      "[CV]  gbc__learning_rate=0.2, gbc__max_depth=5, gbc__min_samples_split=4, gbc__n_estimators=100, score=0.662, total= 2.6min\n",
      "[Parallel(n_jobs=1)]: Done  36 out of  36 | elapsed: 114.1min remaining:    0.0s\n",
      "[CV] gbc__learning_rate=0.2, gbc__max_depth=5, gbc__min_samples_split=4, gbc__n_estimators=100 \n",
      "[CV]  gbc__learning_rate=0.2, gbc__max_depth=5, gbc__min_samples_split=4, gbc__n_estimators=100, score=0.633, total= 2.6min\n",
      "[Parallel(n_jobs=1)]: Done  37 out of  37 | elapsed: 116.7min remaining:    0.0s\n",
      "[CV] gbc__learning_rate=0.2, gbc__max_depth=5, gbc__min_samples_split=4, gbc__n_estimators=100 \n",
      "[CV]  gbc__learning_rate=0.2, gbc__max_depth=5, gbc__min_samples_split=4, gbc__n_estimators=100, score=0.697, total= 2.6min\n",
      "[Parallel(n_jobs=1)]: Done  38 out of  38 | elapsed: 119.4min remaining:    0.0s\n",
      "[CV] gbc__learning_rate=0.2, gbc__max_depth=5, gbc__min_samples_split=4, gbc__n_estimators=100 \n",
      "[CV]  gbc__learning_rate=0.2, gbc__max_depth=5, gbc__min_samples_split=4, gbc__n_estimators=100, score=0.668, total= 2.6min\n",
      "[Parallel(n_jobs=1)]: Done  39 out of  39 | elapsed: 122.0min remaining:    0.0s\n",
      "[CV] gbc__learning_rate=0.2, gbc__max_depth=5, gbc__min_samples_split=4, gbc__n_estimators=100 \n",
      "[CV]  gbc__learning_rate=0.2, gbc__max_depth=5, gbc__min_samples_split=4, gbc__n_estimators=100, score=0.701, total= 2.6min\n",
      "[Parallel(n_jobs=1)]: Done  40 out of  40 | elapsed: 124.7min remaining:    0.0s\n",
      "[Parallel(n_jobs=1)]: Done  40 out of  40 | elapsed: 124.7min finished\n"
     ]
    },
    {
     "data": {
      "text/plain": [
       "GridSearchCV(cv=None, error_score=nan,\n",
       "             estimator=Pipeline(memory=None,\n",
       "                                steps=[('transform',\n",
       "                                        ColumnTransformer(n_jobs=None,\n",
       "                                                          remainder='drop',\n",
       "                                                          sparse_threshold=0.3,\n",
       "                                                          transformer_weights=None,\n",
       "                                                          transformers=[('skewed',\n",
       "                                                                         Pipeline(memory=None,\n",
       "                                                                                  steps=[('log_transform',\n",
       "                                                                                          FunctionTransformer(accept_sparse=False,\n",
       "                                                                                                              check_inverse=True,\n",
       "                                                                                                              func=<ufunc 'log1p'>,\n",
       "                                                                                                              inv_kw_args=None,\n",
       "                                                                                                              inve...\n",
       "                                                                   random_state=42,\n",
       "                                                                   subsample=1.0,\n",
       "                                                                   tol=0.0001,\n",
       "                                                                   validation_fraction=0.1,\n",
       "                                                                   verbose=0,\n",
       "                                                                   warm_start=False))],\n",
       "                                verbose=False),\n",
       "             iid='deprecated', n_jobs=None,\n",
       "             param_grid={'gbc__learning_rate': [0.1, 0.2],\n",
       "                         'gbc__max_depth': [3, 5],\n",
       "                         'gbc__min_samples_split': [2, 4],\n",
       "                         'gbc__n_estimators': [100]},\n",
       "             pre_dispatch='2*n_jobs', refit=True, return_train_score=False,\n",
       "             scoring='roc_auc', verbose=50)"
      ]
     },
     "execution_count": 99,
     "metadata": {},
     "output_type": "execute_result"
    }
   ],
   "source": [
    "#initialize with GradientBoostingClassifier\n",
    "gbc_pipeline = Pipeline([\n",
    "    ('transform', column_transformer),\n",
    "    ('gbc', GradientBoostingClassifier(random_state=42))\n",
    "])\n",
    "\n",
    "parameters = {'gbc__learning_rate': [0.1, 0.2], 'gbc__n_estimators': [100],\n",
    "             'gbc__max_depth': [3, 5], 'gbc__min_samples_split': [2,4]}        \n",
    "        \n",
    "grid_obj = GridSearchCV(gbc_pipeline, parameters, scoring = 'roc_auc', verbose=50)\n",
    "\n",
    "# Fit the grid search object to the training data and find the optimal parameters\n",
    "grid_obj.fit(X, y)"
   ]
  },
  {
   "cell_type": "code",
   "execution_count": 101,
   "metadata": {
    "scrolled": true
   },
   "outputs": [
    {
     "name": "stdout",
     "output_type": "stream",
     "text": [
      "{'gbc__learning_rate': 0.1, 'gbc__max_depth': 3, 'gbc__min_samples_split': 4, 'gbc__n_estimators': 100}\n",
      "ROC score: 0.8766\n",
      "Final ROC: 0.8779\n"
     ]
    }
   ],
   "source": [
    "# Get the estimator and predict\n",
    "print(grid_obj.best_params_)\n",
    "best_clf = grid_obj.best_estimator_\n",
    "best_predictions = best_clf.predict_proba(X)[:, 1]\n",
    "\n",
    "# Make predictions using unoptimized and the best model\n",
    "predictions = (gbc_pipeline.fit(X, y)).predict_proba(X)[:, 1]\n",
    "\n",
    "print(\"ROC score: {:.4f}\".format(roc_auc_score(y, predictions)))\n",
    "print(\"Final ROC score: {:.4f}\".format(roc_auc_score(y, best_predictions)))"
   ]
  },
  {
   "cell_type": "markdown",
   "metadata": {},
   "source": [
    "Using ROC as scoring metric, the model performance can be increased by 0.13 %-points by using the best classifier parameters vs default settings."
   ]
  },
  {
   "cell_type": "code",
   "execution_count": 210,
   "metadata": {},
   "outputs": [],
   "source": [
    "# Save to file in the current working directory\n",
    "pkl_filename = \"best_gradient_boosting.pkl\"  \n",
    "with open(pkl_filename, 'wb') as file:  \n",
    "    pickle.dump(best_clf, file)"
   ]
  },
  {
   "cell_type": "code",
   "execution_count": 28,
   "metadata": {},
   "outputs": [],
   "source": [
    "# Load best GBC model\n",
    "with open(\"best_gradient_boosting.pkl\", \"rb\") as input_file:\n",
    "    best_clf = pickle.load(input_file)"
   ]
  },
  {
   "cell_type": "code",
   "execution_count": 211,
   "metadata": {},
   "outputs": [
    {
     "data": {
      "text/plain": [
       "GradientBoostingClassifier(ccp_alpha=0.0, criterion='friedman_mse', init=None,\n",
       "                           learning_rate=0.1, loss='deviance', max_depth=3,\n",
       "                           max_features=None, max_leaf_nodes=None,\n",
       "                           min_impurity_decrease=0.0, min_impurity_split=None,\n",
       "                           min_samples_leaf=1, min_samples_split=2,\n",
       "                           min_weight_fraction_leaf=0.0, n_estimators=100,\n",
       "                           n_iter_no_change=None, presort='deprecated',\n",
       "                           random_state=42, subsample=1.0, tol=0.0001,\n",
       "                           validation_fraction=0.1, verbose=0,\n",
       "                           warm_start=False)"
      ]
     },
     "execution_count": 211,
     "metadata": {},
     "output_type": "execute_result"
    }
   ],
   "source": [
    "best_clf.named_steps['gbc']"
   ]
  },
  {
   "cell_type": "markdown",
   "metadata": {},
   "source": [
    "Among the features that the classifier uses to predict customer response, D19_SOZIALES is by far the most important one. Unfortunately, the attribute is not described by the accompanying data guide."
   ]
  },
  {
   "cell_type": "code",
   "execution_count": 106,
   "metadata": {},
   "outputs": [
    {
     "data": {
      "image/png": "[encoded data removed]",
      "text/plain": [
       "<Figure size 504x720 with 1 Axes>"
      ]
     },
     "metadata": {
      "needs_background": "light"
     },
     "output_type": "display_data"
    }
   ],
   "source": [
    "feature_importances = best_clf.named_steps['gbc'].feature_importances_\n",
    "pd.Series(feature_importances, index=[''] + column_names).sort_values()[-10:].plot(kind='barh', figsize=(7,10))\n",
    "plt.xlabel('feature importance')\n",
    "plt.savefig('feature_importance.png', dpi=500);"
   ]
  },
  {
   "cell_type": "markdown",
   "metadata": {},
   "source": [
    "Looking at the distribution of the D19_SOZIALES attribute in our focus clusters, we see a clear characteristic in these groups:"
   ]
  },
  {
   "cell_type": "code",
   "execution_count": 149,
   "metadata": {},
   "outputs": [
    {
     "data": {
      "image/png": "[encoded data removed]",
      "text/plain": [
       "<Figure size 1152x432 with 1 Axes>"
      ]
     },
     "metadata": {
      "needs_background": "light"
     },
     "output_type": "display_data"
    }
   ],
   "source": [
    "# Plot D19_SOZIALES distribution in relevant clusters\n",
    "x1=customers_clean.iloc[customers_clustered[customers_clustered['Cluster'] == 8].index]['D19_SOZIALES']\n",
    "x2=customers_clean.iloc[customers_clustered[customers_clustered['Cluster'] == 9].index]['D19_SOZIALES']\n",
    "\n",
    "\n",
    "fig, ax = plt.subplots(figsize=(16,6))\n",
    "\n",
    "width = 0.35 \n",
    "\n",
    "p1 = plt.hist(x1, width=width, label='Cluster 9')\n",
    "p2 = plt.hist(x2, width=width, label='Cluster 10')\n",
    "\n",
    "plt.title('Distribution of D19_SOZIALES among interested clusters')\n",
    "plt.ylabel('Count')\n",
    "plt.xlabel('Attribute value')\n",
    "plt.legend()\n",
    "plt.savefig('d19_distribution.png', dpi=500);"
   ]
  },
  {
   "cell_type": "markdown",
   "metadata": {},
   "source": [
    "## Part 3: Kaggle Competition\n",
    "\n",
    "Now that you've created a model to predict which individuals are most likely to respond to a mailout campaign, it's time to test that model in competition through Kaggle. If you click on the link [here](http://www.kaggle.com/t/21e6d45d4c574c7fa2d868f0e8c83140), you'll be taken to the competition page where, if you have a Kaggle account, you can enter. If you're one of the top performers, you may have the chance to be contacted by a hiring manager from Arvato or Bertelsmann for an interview!\n",
    "\n",
    "Your entry to the competition should be a CSV file with two columns. The first column should be a copy of \"LNR\", which acts as an ID number for each individual in the \"TEST\" partition. The second column, \"RESPONSE\", should be some measure of how likely each individual became a customer – this might not be a straightforward probability. As you should have found in Part 2, there is a large output class imbalance, where most individuals did not respond to the mailout. Thus, predicting individual classes and using accuracy does not seem to be an appropriate performance evaluation method. Instead, the competition will be using AUC to evaluate performance. The exact values of the \"RESPONSE\" column do not matter as much: only that the higher values try to capture as many of the actual customers as possible, early in the ROC curve sweep."
   ]
  },
  {
   "cell_type": "code",
   "execution_count": 214,
   "metadata": {},
   "outputs": [],
   "source": [
    "mailout_test = pd.read_csv('Udacity_MAILOUT_052018_TEST.csv', sep=';', low_memory=False)"
   ]
  },
  {
   "cell_type": "code",
   "execution_count": 215,
   "metadata": {},
   "outputs": [
    {
     "data": {
      "text/plain": [
       "(42833, 366)"
      ]
     },
     "execution_count": 215,
     "metadata": {},
     "output_type": "execute_result"
    }
   ],
   "source": [
    "mailout_test.shape"
   ]
  },
  {
   "cell_type": "code",
   "execution_count": 216,
   "metadata": {},
   "outputs": [],
   "source": [
    "train_set= set(mailout_train.columns)\n",
    "test_set= set(mailout_test.columns)"
   ]
  },
  {
   "cell_type": "code",
   "execution_count": 217,
   "metadata": {},
   "outputs": [
    {
     "data": {
      "text/plain": [
       "{'RESPONSE'}"
      ]
     },
     "execution_count": 217,
     "metadata": {},
     "output_type": "execute_result"
    }
   ],
   "source": [
    "train_set - test_set"
   ]
  },
  {
   "cell_type": "code",
   "execution_count": 218,
   "metadata": {},
   "outputs": [
    {
     "name": "stdout",
     "output_type": "stream",
     "text": [
      "Old shape: (42833, 366)\n",
      "0 rows and 15 columns dropped.\n",
      "New shape: (42833, 351) \n",
      "\n",
      "Datatypes:\n",
      "float64    260\n",
      "int64       90\n",
      "object       1\n",
      "dtype: int64\n"
     ]
    }
   ],
   "source": [
    "mailout_test_clean = clean_dataframe(mailout_test, drop_cols, test_df = True)"
   ]
  },
  {
   "cell_type": "code",
   "execution_count": 219,
   "metadata": {},
   "outputs": [],
   "source": [
    "# Load from file\n",
    "pkl_filename = \"best_gradient_boosting.pkl\"  \n",
    "with open(pkl_filename, 'rb') as file:  \n",
    "    pickle_model = pickle.load(file) \n",
    "    \n",
    "#predict target values\n",
    "kaggle_predict = pickle_model.predict_proba(mailout_test_clean)[:,1]"
   ]
  },
  {
   "cell_type": "code",
   "execution_count": 220,
   "metadata": {},
   "outputs": [],
   "source": [
    "submission = pd.read_csv('Arvato_Capstone_Example_Submission.csv')\n",
    "submission['RESPONSE'] = kaggle_predict\n",
    "submission.to_csv('kaggle_submission.csv', index=False)"
   ]
  },
  {
   "cell_type": "markdown",
   "metadata": {},
   "source": [
    "In a last step, the model performance is evaluated by predicting the response of each person in the \"MAILOUT_TEST\" dataset and submit the results to the Arvato Kaggle competition. The submission scored 0.75706, positioning it among the top 150."
   ]
  },
  {
   "cell_type": "markdown",
   "metadata": {},
   "source": [
    "### Conclusion"
   ]
  },
  {
   "cell_type": "markdown",
   "metadata": {},
   "source": [
    "The Bertelsmann/Arvato Project proved to be a fun and engaging final exercise in the Data Science Nanodegree program. Handling the data was certainly among the biggest challenges in this project. Managing the high number of missing values and many different types of features can make a huge difference on final model performance.\n",
    "Customers and general population were clustered into 12 groups, of which 2 showed to hold over 50% of the company's customers. These two focus groups had specific characteristics: Broadly speaking, customers of this company are well-earning couples or families with a certain affinity for online purchases.\n",
    "\n",
    "To forecast customer responses, the Gradient Boosting Classifier proved to be the best-performing estimator. The Kaggle submission results shows that there is still room for improvement though. More specifically, the following changes to my approach could be considered to optimize project outcomes:\n",
    "* Drop fewer or more data points when preparing the datasets.\n",
    "* Test different approaches to standardize and scale features, like using Min-Max-Scaler instead of Standard Scaler.\n",
    "* Choose a smaller number of clusters to group customers and population.\n",
    "*Consider alternative classifiers than the ones described. Choose different parameters and ranges to hypertune the model.\n",
    "\n",
    "The project is far from finished and leaves ample room for further exploration!"
   ]
  },
  {
   "cell_type": "code",
   "execution_count": null,
   "metadata": {},
   "outputs": [],
   "source": []
  }
 ],
 "metadata": {
  "kernelspec": {
   "display_name": "Python 3",
   "language": "python",
   "name": "python3"
  },
  "language_info": {
   "codemirror_mode": {
    "name": "ipython",
    "version": 3
   },
   "file_extension": ".py",
   "mimetype": "text/x-python",
   "name": "python",
   "nbconvert_exporter": "python",
   "pygments_lexer": "ipython3",
   "version": "3.6.9"
  }
 },
 "nbformat": 4,
 "nbformat_minor": 2
}
